{
 "cells": [
  {
   "cell_type": "markdown",
   "id": "7d3a981d",
   "metadata": {},
   "source": [
    "## Exploration Ensemble Models - v2\n",
    "- Create and train differents ensemble models (using SKLEARN)\n",
    "- Evaluating then using the distribution of metrics using repeated cross validation (see previos notebook exploration evaluation models)\n",
    "- EXTRA: get the best 2 models train with all train dataframe and evaluate it with test dataframe"
   ]
  },
  {
   "cell_type": "code",
   "execution_count": 1,
   "id": "b6c12740",
   "metadata": {},
   "outputs": [],
   "source": [
    "import pandas as pd\n",
    "import matplotlib.pyplot as plt\n",
    "import numpy as np\n",
    "import seaborn as sns\n",
    "\n",
    "from sklearn.ensemble import RandomForestRegressor\n",
    "from sklearn.linear_model import LinearRegression\n",
    "from sklearn.neighbors import KNeighborsRegressor\n",
    "from sklearn.tree import DecisionTreeRegressor\n",
    "from sklearn.model_selection import GridSearchCV\n",
    "from sklearn.svm import SVR\n",
    "import xgboost\n",
    "import lightgbm as ltb\n",
    "from sklearn import datasets, linear_model\n",
    "\n",
    "from sklearn.model_selection import RepeatedKFold\n",
    "from sklearn.model_selection import cross_val_score\n",
    "\n",
    "\n",
    "from sklearn.ensemble import StackingRegressor\n",
    "\n",
    "\n",
    "from sklearn.metrics import mean_squared_error\n",
    "from sklearn.metrics import mean_absolute_error\n",
    "\n",
    "\n",
    "import warnings\n",
    "warnings.filterwarnings(\"ignore\")"
   ]
  },
  {
   "cell_type": "code",
   "execution_count": null,
   "id": "9e0e796d",
   "metadata": {},
   "outputs": [],
   "source": []
  },
  {
   "cell_type": "code",
   "execution_count": 2,
   "id": "a6baa006",
   "metadata": {},
   "outputs": [],
   "source": [
    "### LOAD AUXILIAR FUNCTIONS NOTEBOOK 1\n",
    "\n",
    "# auxiliar functions\n",
    "def evaluate_metrics(model, X, y_true):\n",
    "    '''\n",
    "    Evaluate rmse, mae, mean of rmse+mae.\n",
    "    \n",
    "    OBS: \n",
    "     - Inside the functions is called the method model.predict()\n",
    "     - Calculate the metrics (using y_true vs y_predict) and save it in a dataframe\n",
    "    '''\n",
    "    # predict\n",
    "    prediction = model.predict(X)\n",
    "    \n",
    "    # create a dataframe where the metrics are saved\n",
    "    df_metrics = pd.DataFrame([], columns = ['metric_value'])\n",
    "    \n",
    "    \n",
    "    #### rmse ####\n",
    "    # calculate\n",
    "    rmse = mean_squared_error(y_true = y_true,\n",
    "                  y_pred = prediction,\n",
    "                  squared = False)\n",
    "    # save df\n",
    "    df_metrics = df_metrics.append(pd.DataFrame([rmse], index = ['RMSE'], columns = ['metric_value']))\n",
    "    print('RMSE: ', rmse)\n",
    "    \n",
    "    \n",
    "    \n",
    "    #### mae ####\n",
    "    # calculate\n",
    "    mae = mean_absolute_error(y_true = y_true,\n",
    "                         y_pred = prediction)\n",
    "    \n",
    "    # save df\n",
    "    df_metrics = df_metrics.append(pd.DataFrame([mae], index = ['MAE'], columns = ['metric_value']))\n",
    "    print('MAE: ', mae)\n",
    "    \n",
    "    \n",
    "    \n",
    "    #### (rmse + mae) / 2 ####\n",
    "    # calculate\n",
    "    rmse_mae = (rmse + mae) / 2\n",
    "    \n",
    "    # save df\n",
    "    df_metrics = df_metrics.append(pd.DataFrame([rmse_mae], index = ['RMSE_MAE'], columns = ['metric_value']))\n",
    "    print('MEAN_RMSE_MAE: ', rmse_mae)\n",
    "    \n",
    "    \n",
    "    return df_metrics\n",
    "\n",
    "\n",
    "def evaluate_quality_models(model, X, y_true, df_metrics):\n",
    "    '''\n",
    "    Make 3 plots evaluating the quality of the models:\n",
    "    1) Scatter plot between true and predicted values\n",
    "    2) Histogram of errors (calcualing y_true - y_pred)\n",
    "    3) Metrics of the models. (the metrics are saved in a dataframe)\n",
    "    \n",
    "    \n",
    "    - df_metrics needs to have this structure (getting using the function evaluate_metrics)\n",
    "                metric_value\n",
    "    RMSE\t    124.345780\n",
    "    MAE\t        100.801996\n",
    "    RMSE_MAE\t112.573888\n",
    "    \n",
    "    '''\n",
    "    \n",
    "    #y_pred = model.predict(X)  # some models return (N_observations, 1) and other models return (N_observations, )\n",
    "    y_pred = model.predict(X).reshape(X.shape[0], 1)\n",
    "\n",
    "    fig, axs = plt.subplots(1, 3, figsize = (20, 5))\n",
    "\n",
    "    # plot scatter y_true vs y_pred\n",
    "    axs[0].scatter(x = y_pred, y = y_true)\n",
    "    axs[0].set_xlabel('y_pred', fontsize = 15)\n",
    "    axs[0].set_ylabel('y_true', fontsize = 15)\n",
    "    axs[0].set_title('y_true vs y_pred', fontsize = 20)\n",
    "\n",
    "\n",
    "    # plot histogram errors, only the difference between real and predicted (y_true - y_pred)\n",
    "    axs[1].hist(y_true - y_pred)\n",
    "    axs[1].set_xlabel('Freq', fontsize = 15)\n",
    "    axs[1].set_ylabel('Errors', fontsize = 15)\n",
    "    axs[1].set_title('Histogram', fontsize = 20)\n",
    "\n",
    "\n",
    "    # plot bar with the values of the metrics using the dataframe\n",
    "    axs[2].grid()\n",
    "    axs[2].bar(x = df_metrics.index, height = df_metrics['metric_value'])\n",
    "    axs[2].set_xlabel('Metrics', fontsize = 15)\n",
    "    axs[2].set_ylabel('Value', fontsize = 15)\n",
    "    axs[2].set_title('Evaluate Metrics', fontsize = 20)\n",
    "\n",
    "\n",
    "    plt.plot()  "
   ]
  },
  {
   "cell_type": "code",
   "execution_count": null,
   "id": "c871e648",
   "metadata": {},
   "outputs": [],
   "source": []
  },
  {
   "cell_type": "markdown",
   "id": "de8d03c7",
   "metadata": {},
   "source": [
    "### -1. Root repo"
   ]
  },
  {
   "cell_type": "code",
   "execution_count": 3,
   "id": "ecbd4dcd",
   "metadata": {},
   "outputs": [
    {
     "name": "stdout",
     "output_type": "stream",
     "text": [
      "before:  D:\\Github-mi-repo\\Discovery-ensembles-stackings-methods\\discovery\n",
      "after:  D:\\Github-mi-repo\\Discovery-ensembles-stackings-methods\n"
     ]
    }
   ],
   "source": [
    "import os\n",
    "# get actual path\n",
    "actual_path = os.path.abspath(os.getcwd())\n",
    "\n",
    "# divide each folder in the path in a list\n",
    "# delete the last element to get the root path of the local folder\n",
    "list_root_path = actual_path.split('\\\\')[:-1]\n",
    "\n",
    "# join the list in a string with the root\n",
    "root_path = '\\\\'.join(list_root_path)\n",
    "\n",
    "# pararme en el root obtenido\n",
    "os.chdir(root_path)\n",
    "\n",
    "print('before: ', actual_path)\n",
    "print('after: ', root_path)"
   ]
  },
  {
   "cell_type": "code",
   "execution_count": null,
   "id": "5f1e9dbe",
   "metadata": {},
   "outputs": [],
   "source": []
  },
  {
   "cell_type": "markdown",
   "id": "b5b05d04",
   "metadata": {},
   "source": [
    "###  0. Parameters"
   ]
  },
  {
   "cell_type": "code",
   "execution_count": 4,
   "id": "13bdb541",
   "metadata": {},
   "outputs": [],
   "source": [
    "# parameters to dataset\n",
    "path_data_folder = 'data'\n",
    "path_data_example_1 = 'example1'"
   ]
  },
  {
   "cell_type": "code",
   "execution_count": null,
   "id": "08138a23",
   "metadata": {},
   "outputs": [],
   "source": []
  },
  {
   "cell_type": "markdown",
   "id": "2cf76340",
   "metadata": {},
   "source": [
    "### 1. Load data"
   ]
  },
  {
   "cell_type": "code",
   "execution_count": null,
   "id": "87cd801d",
   "metadata": {},
   "outputs": [],
   "source": []
  },
  {
   "cell_type": "code",
   "execution_count": 5,
   "id": "f21d3065",
   "metadata": {},
   "outputs": [],
   "source": [
    "# load data\n",
    "def load_data(path_data):\n",
    "    '''\n",
    "    Given the path of the folder where are located the data, load it.\n",
    "    OBS: the data must to be a csv file and separed into X_train, y_train, X_test, y_test\n",
    "    '''\n",
    "    \n",
    "    X_train = pd.read_csv(path_data + '/' + 'X_train.csv', index_col = 0)\n",
    "    y_train = pd.read_csv(path_data + '/' + 'y_train.csv', index_col = 0)\n",
    "\n",
    "    X_test = pd.read_csv(path_data + '/' + 'X_test.csv', index_col = 0)\n",
    "    y_test = pd.read_csv(path_data + '/' + 'y_test.csv', index_col = 0)\n",
    "\n",
    "    print('X_train: ', X_train.shape)\n",
    "    print('y_train: ', y_train.shape)\n",
    "    print('X_test: ', X_test.shape)\n",
    "    print('y_test: ', y_test.shape)\n",
    "    \n",
    "    return X_train, y_train, X_test, y_test"
   ]
  },
  {
   "cell_type": "code",
   "execution_count": 6,
   "id": "4d365fa2",
   "metadata": {},
   "outputs": [
    {
     "name": "stdout",
     "output_type": "stream",
     "text": [
      "X_train:  (800, 25)\n",
      "y_train:  (800, 1)\n",
      "X_test:  (200, 25)\n",
      "y_test:  (200, 1)\n"
     ]
    }
   ],
   "source": [
    "# path\n",
    "path_data = path_data_folder + '/' + path_data_example_1\n",
    "\n",
    "# load data\n",
    "X_train, y_train, X_test, y_test = load_data(path_data)"
   ]
  },
  {
   "cell_type": "code",
   "execution_count": null,
   "id": "2757f7f4",
   "metadata": {},
   "outputs": [],
   "source": []
  },
  {
   "cell_type": "markdown",
   "id": "bcfc48fd",
   "metadata": {},
   "source": [
    "### 2. EXAMPLE. Create Ensemble/Stacking Model\n",
    "- Create Ensemble model using sklearn library\n",
    "- This ensenble model are composed of **2 levels**: **level 0** has all the models and **level 1** is a simple model por example a regression that ponderate the prediction of the models in level 0\n",
    "\n",
    "**IMPORTANT**\n",
    "- To create a ensemble/stacking model is necesary create a list that contain the models\n",
    "- In the list of level 0 contains all the models (base models). Each model is defined as a tuple with the name of the model and the model: ('model_name', 'model')\n",
    "- In the list of level 1 contain the simple model (ex regression) that ponderate the predictions of the rest of the models"
   ]
  },
  {
   "cell_type": "code",
   "execution_count": 7,
   "id": "0a244ab2",
   "metadata": {},
   "outputs": [],
   "source": [
    "#### CREATING AN EXAMPLE ESEMBLE MODEL #####\n",
    "\n",
    "# define the base models\n",
    "level0 = []\n",
    "level0.append(('knn', KNeighborsRegressor()))\n",
    "level0.append(('cart', DecisionTreeRegressor(random_state = 42)))\n",
    "level0.append(('svm', SVR()))\n",
    "\n",
    "# define meta learner model\n",
    "level1 = LinearRegression()\n",
    "\n",
    "# define the stacking ensemble\n",
    "ex_ensemble = StackingRegressor(estimators=level0, final_estimator=level1, cv=5)"
   ]
  },
  {
   "cell_type": "code",
   "execution_count": 8,
   "id": "f34cd9e3",
   "metadata": {},
   "outputs": [
    {
     "data": {
      "text/plain": [
       "StackingRegressor(cv=5,\n",
       "                  estimators=[('knn', KNeighborsRegressor()),\n",
       "                              ('cart', DecisionTreeRegressor(random_state=42)),\n",
       "                              ('svm', SVR())],\n",
       "                  final_estimator=LinearRegression())"
      ]
     },
     "execution_count": 8,
     "metadata": {},
     "output_type": "execute_result"
    }
   ],
   "source": [
    "#### TRAIN THE EXAMPLE ENSEMBLE/STACKING MODEL ####\n",
    "ex_ensemble.fit(X_train, y_train)"
   ]
  },
  {
   "cell_type": "code",
   "execution_count": 9,
   "id": "26ab7552",
   "metadata": {},
   "outputs": [
    {
     "name": "stdout",
     "output_type": "stream",
     "text": [
      "RMSE:  48.786374489676504\n",
      "MAE:  38.96154646255284\n",
      "MEAN_RMSE_MAE:  43.873960476114675\n"
     ]
    },
    {
     "data": {
      "image/png": "[encoded data removed]",
      "text/plain": [
       "<Figure size 1440x360 with 3 Axes>"
      ]
     },
     "metadata": {
      "needs_background": "light"
     },
     "output_type": "display_data"
    }
   ],
   "source": [
    "### EVALUATE MODEL EXAMPLE ENSEMBLE (using the functions auxiliar notebook 1)###\n",
    "metrics_ex_ensemble = evaluate_metrics(model = ex_ensemble, \n",
    "                           X = X_test, \n",
    "                           y_true = y_test\n",
    "                          )\n",
    "\n",
    "evaluate_quality_models(model = ex_ensemble, \n",
    "                        X = X_test, \n",
    "                        y_true = y_test, \n",
    "                        df_metrics = metrics_ex_ensemble\n",
    "                       )"
   ]
  },
  {
   "cell_type": "code",
   "execution_count": null,
   "id": "2793ab56",
   "metadata": {},
   "outputs": [],
   "source": []
  },
  {
   "cell_type": "markdown",
   "id": "63ee9ebd",
   "metadata": {},
   "source": [
    "### 3. Create Ensemble Model\n",
    "- Create a function that return the ensemble model\n",
    "\n",
    "- In this example are create 4 ensemble models, the first one has 3 base models, the second one has 4 base models , the third one has 5 models and the last one has 6 base models"
   ]
  },
  {
   "cell_type": "code",
   "execution_count": 10,
   "id": "f3f5b364",
   "metadata": {},
   "outputs": [],
   "source": [
    "def ensemble_model_3():\n",
    "    # define the base models\n",
    "    level0 = []\n",
    "    level0.append(('knn', KNeighborsRegressor()))\n",
    "    level0.append(('cart', DecisionTreeRegressor(random_state = 42)))\n",
    "    level0.append(('svm', SVR()))\n",
    "\n",
    "    # define meta learner model\n",
    "    level1 = LinearRegression()\n",
    "\n",
    "    # define the stacking ensemble\n",
    "    model = StackingRegressor(estimators=level0, final_estimator=level1, cv=5)\n",
    "    return model"
   ]
  },
  {
   "cell_type": "code",
   "execution_count": 11,
   "id": "48befedd",
   "metadata": {},
   "outputs": [],
   "source": [
    "def ensemble_model_4():\n",
    "    # define the base models\n",
    "    level0 = []\n",
    "    level0.append(('knn', KNeighborsRegressor()))\n",
    "    level0.append(('cart', DecisionTreeRegressor(random_state = 42)))\n",
    "    level0.append(('svm', SVR()))\n",
    "    level0.append(('rf', RandomForestRegressor(random_state = 42))) # append model\n",
    "\n",
    "    # define meta learner model\n",
    "    level1 = LinearRegression()\n",
    "\n",
    "    # define the stacking ensemble\n",
    "    model = StackingRegressor(estimators=level0, final_estimator=level1, cv=5)\n",
    "    return model"
   ]
  },
  {
   "cell_type": "code",
   "execution_count": 12,
   "id": "2db57cbb",
   "metadata": {},
   "outputs": [],
   "source": [
    "def ensemble_model_5():\n",
    "    # define the base models\n",
    "    level0 = []\n",
    "    level0.append(('knn', KNeighborsRegressor()))\n",
    "    level0.append(('cart', DecisionTreeRegressor(random_state = 42)))\n",
    "    level0.append(('svm', SVR()))\n",
    "    level0.append(('rf', RandomForestRegressor(random_state = 42)))\n",
    "    level0.append(('xgb', xgboost.XGBRegressor(random_state = 42))) # append model\n",
    "\n",
    "    # define meta learner model\n",
    "    level1 = LinearRegression()\n",
    "\n",
    "    # define the stacking ensemble\n",
    "    model = StackingRegressor(estimators=level0, final_estimator=level1, cv=5)\n",
    "    return model"
   ]
  },
  {
   "cell_type": "code",
   "execution_count": 13,
   "id": "c98581d3",
   "metadata": {},
   "outputs": [],
   "source": [
    "def ensemble_model_6():\n",
    "    # define the base models\n",
    "    level0 = []\n",
    "    level0.append(('knn', KNeighborsRegressor()))\n",
    "    level0.append(('cart', DecisionTreeRegressor(random_state = 42)))\n",
    "    level0.append(('svm', SVR()))\n",
    "    level0.append(('rf', RandomForestRegressor(random_state = 42)))\n",
    "    level0.append(('xgb', xgboost.XGBRegressor(random_state = 42)))\n",
    "    level0.append(('ltb', ltb.LGBMRegressor(random_state = 42))) # append model\n",
    "\n",
    "    # define meta learner model\n",
    "    level1 = LinearRegression()\n",
    "\n",
    "    # define the stacking ensemble\n",
    "    model = StackingRegressor(estimators=level0, final_estimator=level1, cv=5)\n",
    "    return model"
   ]
  },
  {
   "cell_type": "code",
   "execution_count": null,
   "id": "ad1d4ec6",
   "metadata": {},
   "outputs": [],
   "source": []
  },
  {
   "cell_type": "markdown",
   "id": "8d6e4a15",
   "metadata": {},
   "source": [
    "### 4.- Evaluate quality of the models (individuals and ensemble models) (cross validation)\n",
    "- Evaluate the distributions of the METRICS of each model using repeated cross validation\n",
    "\n",
    "- Evaluate the individuals models generated in the notebook and the ensemble models generated in the last step"
   ]
  },
  {
   "cell_type": "code",
   "execution_count": 14,
   "id": "19397521",
   "metadata": {},
   "outputs": [],
   "source": [
    "# create a function that have ALL THE MODELS (individual and ensemble models)THAT WILL BE EVALUATED. \n",
    "# return a dictionary with these models\n",
    "\n",
    "def get_models():\n",
    "    '''\n",
    "    Create a function that have ALL THE MODELS THAT WILL trained\n",
    "    '''\n",
    "    # create a dictionary where are saved the different models that will be trained\n",
    "    models = dict()\n",
    "\n",
    "    # complete dictionary with models\n",
    "    models['lr'] = LinearRegression()\n",
    "    models['cart'] = DecisionTreeRegressor(random_state = 42)\n",
    "    models['rf'] = RandomForestRegressor(random_state = 42)\n",
    "    models['knn'] = KNeighborsRegressor()\n",
    "    models['svr'] = SVR()\n",
    "    models['xgb'] = xgboost.XGBRegressor(random_state = 42)\n",
    "    models['ltb'] = ltb.LGBMRegressor(random_state = 42)\n",
    "    models['ensemble3'] = ensemble_model_3()\n",
    "    models['ensemble4'] = ensemble_model_4()\n",
    "    models['ensemble5'] = ensemble_model_5()\n",
    "    models['ensemble6'] = ensemble_model_6()\n",
    "    \n",
    "    # return dictionary with the models\n",
    "    return models"
   ]
  },
  {
   "cell_type": "code",
   "execution_count": 15,
   "id": "974a79fa",
   "metadata": {},
   "outputs": [],
   "source": [
    "def evaluate_model(model, X, y):\n",
    "    '''\n",
    "    Given a model and a dataset train (X, y).\n",
    "    Generate the splitter and then train the model with the differents folds and return the metrics getting in \n",
    "    the training of each folder\n",
    "    '''\n",
    "    # defining a CV SPLITTER (repeated K folds)\n",
    "    cv = RepeatedKFold(n_splits=10, n_repeats=3, random_state=42)\n",
    "    \n",
    "    # getting the scores for each FOLD\n",
    "    scores = cross_val_score(model, X, y, scoring='neg_root_mean_squared_error', cv=cv)\n",
    "    scores = -scores\n",
    "    \n",
    "    return scores"
   ]
  },
  {
   "cell_type": "code",
   "execution_count": 16,
   "id": "41127b6e",
   "metadata": {},
   "outputs": [],
   "source": [
    "def evaluate_quality_of_models(X, y, dicc_models):\n",
    "    '''\n",
    "    Evaluate the quality of the models\n",
    "    \n",
    "    Given the dataframe of Train and a dictionary with all the models that will be evaluated using repated cross validation\n",
    "    '''\n",
    "    \n",
    "    # initialize\n",
    "    results_metrics_model, name_model = [], []\n",
    "\n",
    "\n",
    "    # run\n",
    "    for name, model in dicc_models.items():\n",
    "        print('\\nEvaluating... ', name)\n",
    "\n",
    "        # get metrics of each model\n",
    "        scores = evaluate_model(model, X, y)\n",
    "        results_metrics_model.append(scores)\n",
    "        name_model.append(name)\n",
    "\n",
    "        #print\n",
    "        print(f'Mean: {round(np.mean(scores), 3)} // std: {round(np.std(scores), 3)}')\n",
    "        \n",
    "    \n",
    "    return results_metrics_model, name_model"
   ]
  },
  {
   "cell_type": "code",
   "execution_count": 17,
   "id": "61fde79e",
   "metadata": {},
   "outputs": [],
   "source": [
    "models = get_models()"
   ]
  },
  {
   "cell_type": "code",
   "execution_count": 18,
   "id": "8cd72a5e",
   "metadata": {},
   "outputs": [
    {
     "name": "stdout",
     "output_type": "stream",
     "text": [
      "\n",
      "Evaluating...  lr\n",
      "Mean: 10.4 // std: 0.795\n",
      "\n",
      "Evaluating...  cart\n",
      "Mean: 84.835 // std: 7.893\n",
      "\n",
      "Evaluating...  rf\n",
      "Mean: 51.067 // std: 6.225\n",
      "\n",
      "Evaluating...  knn\n",
      "Mean: 100.349 // std: 6.581\n",
      "\n",
      "Evaluating...  svr\n",
      "Mean: 140.792 // std: 10.771\n",
      "\n",
      "Evaluating...  xgb\n",
      "Mean: 44.267 // std: 5.136\n",
      "\n",
      "Evaluating...  ltb\n",
      "Mean: 35.33 // std: 5.65\n",
      "\n",
      "Evaluating...  ensemble3\n",
      "Mean: 56.432 // std: 5.783\n",
      "\n",
      "Evaluating...  ensemble4\n",
      "Mean: 42.506 // std: 4.67\n",
      "\n",
      "Evaluating...  ensemble5\n",
      "Mean: 39.218 // std: 4.403\n",
      "\n",
      "Evaluating...  ensemble6\n",
      "Mean: 32.824 // std: 4.554\n"
     ]
    }
   ],
   "source": [
    "results_metrics_model, name_model = evaluate_quality_of_models(X = X_train, \n",
    "                                                               y = y_train, \n",
    "                                                               dicc_models = models)"
   ]
  },
  {
   "cell_type": "code",
   "execution_count": null,
   "id": "396b90ee",
   "metadata": {},
   "outputs": [],
   "source": []
  },
  {
   "cell_type": "markdown",
   "id": "c4f63fc9",
   "metadata": {},
   "source": [
    "### 5. Make boxplot with the distribution of the metrics of each model"
   ]
  },
  {
   "cell_type": "code",
   "execution_count": 19,
   "id": "b56d6542",
   "metadata": {},
   "outputs": [
    {
     "data": {
      "image/png": "[encoded data removed]",
      "text/plain": [
       "<Figure size 1440x720 with 1 Axes>"
      ]
     },
     "metadata": {
      "needs_background": "light"
     },
     "output_type": "display_data"
    }
   ],
   "source": [
    "plt.figure(figsize = (20, 10))\n",
    "plt.boxplot(results_metrics_model, labels = name_model, showmeans=True)\n",
    "plt.savefig(fname = f'reports/results_{path_data_example_1}')\n",
    "#plt.show()"
   ]
  },
  {
   "cell_type": "code",
   "execution_count": null,
   "id": "9fa91c91",
   "metadata": {},
   "outputs": [],
   "source": []
  },
  {
   "cell_type": "code",
   "execution_count": null,
   "id": "bf57f6b9",
   "metadata": {},
   "outputs": [],
   "source": []
  }
 ],
 "metadata": {
  "kernelspec": {
   "display_name": "Python 3 (ipykernel)",
   "language": "python",
   "name": "python3"
  },
  "language_info": {
   "codemirror_mode": {
    "name": "ipython",
    "version": 3
   },
   "file_extension": ".py",
   "mimetype": "text/x-python",
   "name": "python",
   "nbconvert_exporter": "python",
   "pygments_lexer": "ipython3",
   "version": "3.9.7"
  }
 },
 "nbformat": 4,
 "nbformat_minor": 5
}
