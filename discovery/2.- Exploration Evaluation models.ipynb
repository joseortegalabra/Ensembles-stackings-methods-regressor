{
 "cells": [
  {
   "cell_type": "markdown",
   "id": "8a8f7a7d",
   "metadata": {},
   "source": [
    "## Exploratory Evaluation models (robustness of the models)\n",
    "Content:\n",
    "- Training Individuals models WITH Cross validations (in this case repeated Kfolds). Only train with Kfolds and don't do hp tunning\n",
    "\n",
    "\n",
    "- Compare the robustness of the models across training with different Folds of Data (in each fold is training the same architecture of the model but with different samples of the train dataset, so for example is you use 5folds, 5 models are trained and 5 metrics are saved)\n",
    "\n",
    "\n",
    "- Make boxplots with the distribution of METRICS of the model getting of the train with different Folds"
   ]
  },
  {
   "cell_type": "code",
   "execution_count": 1,
   "id": "2eb6bfa6",
   "metadata": {},
   "outputs": [],
   "source": [
    "import pandas as pd\n",
    "import matplotlib.pyplot as plt\n",
    "import numpy as np\n",
    "import seaborn as sns\n",
    "\n",
    "from sklearn.ensemble import RandomForestRegressor\n",
    "from sklearn.linear_model import LinearRegression\n",
    "from sklearn.neighbors import KNeighborsRegressor\n",
    "from sklearn.tree import DecisionTreeRegressor\n",
    "from sklearn.model_selection import GridSearchCV\n",
    "from sklearn.svm import SVR\n",
    "import xgboost\n",
    "import lightgbm as ltb\n",
    "from sklearn import datasets, linear_model\n",
    "\n",
    "from sklearn.model_selection import RepeatedKFold\n",
    "from sklearn.model_selection import cross_val_score\n",
    "\n",
    "from sklearn.metrics import mean_squared_error\n",
    "from sklearn.metrics import mean_absolute_error\n",
    "\n",
    "import warnings\n",
    "warnings.filterwarnings(\"ignore\")"
   ]
  },
  {
   "cell_type": "code",
   "execution_count": null,
   "id": "3c8c96cc",
   "metadata": {},
   "outputs": [],
   "source": []
  },
  {
   "cell_type": "markdown",
   "id": "fcbbcdfd",
   "metadata": {},
   "source": [
    "### -1. Root repo"
   ]
  },
  {
   "cell_type": "code",
   "execution_count": 2,
   "id": "d2e435bc",
   "metadata": {},
   "outputs": [
    {
     "name": "stdout",
     "output_type": "stream",
     "text": [
      "before:  D:\\Github-mi-repo\\Discovery-ensembles-stackings-methods\\discovery\n",
      "after:  D:\\Github-mi-repo\\Discovery-ensembles-stackings-methods\n"
     ]
    }
   ],
   "source": [
    "import os\n",
    "# get actual path\n",
    "actual_path = os.path.abspath(os.getcwd())\n",
    "\n",
    "# divide each folder in the path in a list\n",
    "# delete the last element to get the root path of the local folder\n",
    "list_root_path = actual_path.split('\\\\')[:-1]\n",
    "\n",
    "# join the list in a string with the root\n",
    "root_path = '\\\\'.join(list_root_path)\n",
    "\n",
    "# pararme en el root obtenido\n",
    "os.chdir(root_path)\n",
    "\n",
    "print('before: ', actual_path)\n",
    "print('after: ', root_path)"
   ]
  },
  {
   "cell_type": "code",
   "execution_count": null,
   "id": "7fb8f6ea",
   "metadata": {},
   "outputs": [],
   "source": []
  },
  {
   "cell_type": "markdown",
   "id": "257dab6d",
   "metadata": {},
   "source": [
    "###  0. Parameters"
   ]
  },
  {
   "cell_type": "code",
   "execution_count": 3,
   "id": "1fd78ed1",
   "metadata": {},
   "outputs": [],
   "source": [
    "# parameters to dataset\n",
    "path_data_folder = 'data'\n",
    "path_data_example_1 = 'example1'"
   ]
  },
  {
   "cell_type": "code",
   "execution_count": null,
   "id": "1717a4dc",
   "metadata": {},
   "outputs": [],
   "source": []
  },
  {
   "cell_type": "markdown",
   "id": "55bdda76",
   "metadata": {},
   "source": [
    "### 1. Load data"
   ]
  },
  {
   "cell_type": "code",
   "execution_count": 5,
   "id": "6dde72da",
   "metadata": {},
   "outputs": [],
   "source": [
    "# load data\n",
    "def load_data(path_data):\n",
    "    '''\n",
    "    Given the path of the folder where are located the data, load it.\n",
    "    OBS: the data must to be a csv file and separed into X_train, y_train, X_test, y_test\n",
    "    '''\n",
    "    \n",
    "    X_train = pd.read_csv(path_data + '/' + 'X_train.csv', index_col = 0)\n",
    "    y_train = pd.read_csv(path_data + '/' + 'y_train.csv', index_col = 0)\n",
    "\n",
    "    X_test = pd.read_csv(path_data + '/' + 'X_test.csv', index_col = 0)\n",
    "    y_test = pd.read_csv(path_data + '/' + 'y_test.csv', index_col = 0)\n",
    "\n",
    "    print('X_train: ', X_train.shape)\n",
    "    print('y_train: ', y_train.shape)\n",
    "    print('X_test: ', X_test.shape)\n",
    "    print('y_test: ', y_test.shape)\n",
    "    \n",
    "    return X_train, y_train, X_test, y_test"
   ]
  },
  {
   "cell_type": "code",
   "execution_count": 6,
   "id": "829cf754",
   "metadata": {},
   "outputs": [
    {
     "name": "stdout",
     "output_type": "stream",
     "text": [
      "X_train:  (800, 20)\n",
      "y_train:  (800, 1)\n",
      "X_test:  (200, 20)\n",
      "y_test:  (200, 1)\n"
     ]
    }
   ],
   "source": [
    "# path\n",
    "path_data = path_data_folder + '/' + path_data_example_1\n",
    "\n",
    "# load data\n",
    "X_train, y_train, X_test, y_test = load_data(path_data)"
   ]
  },
  {
   "cell_type": "markdown",
   "id": "06938535",
   "metadata": {},
   "source": [
    "### 2. Create models (sklearn)\n",
    "- Create a function that have all the models that will train with different Folds\n",
    "- Models without changes in its parameters (NO hp tunning)\n",
    "\n",
    "- To train with CV it's necessary create a CV SPLITTER and after that call the function cross_val_score to train the model with the differents folds defined in the splitter and return the metric getting of each different folds"
   ]
  },
  {
   "cell_type": "code",
   "execution_count": 7,
   "id": "a16a9d1f",
   "metadata": {},
   "outputs": [],
   "source": [
    "def get_models():\n",
    "    '''\n",
    "    Create a function that have ALL THE MODELS THAT WILL trained\n",
    "    '''\n",
    "    # create a dictionary where are saved the different models that will be trained\n",
    "    models = dict()\n",
    "\n",
    "    # complete dictionary with models\n",
    "    models['lr'] = LinearRegression()\n",
    "    models['cart'] = DecisionTreeRegressor(random_state = 42)\n",
    "    models['rf'] = RandomForestRegressor(random_state = 42)\n",
    "    models['knn'] = KNeighborsRegressor()\n",
    "    models['svr'] = SVR()\n",
    "    models['xgb'] = xgboost.XGBRegressor(random_state = 42)\n",
    "    models['ltb'] = ltb.LGBMRegressor(random_state = 42)\n",
    "    \n",
    "    # return dictionary with the models\n",
    "    return models"
   ]
  },
  {
   "cell_type": "code",
   "execution_count": 8,
   "id": "87b27287",
   "metadata": {},
   "outputs": [],
   "source": [
    "# get models\n",
    "models = get_models()"
   ]
  },
  {
   "cell_type": "code",
   "execution_count": null,
   "id": "b4263406",
   "metadata": {},
   "outputs": [],
   "source": []
  },
  {
   "cell_type": "markdown",
   "id": "ac613842",
   "metadata": {},
   "source": [
    "### 3.- Evaluate quality of the models (cross validation)\n",
    "- Evaluate the distributions of the METRICS of each model using repeated cross validation"
   ]
  },
  {
   "cell_type": "code",
   "execution_count": 9,
   "id": "4b86c073",
   "metadata": {},
   "outputs": [],
   "source": [
    "def evaluate_model(model, X, y):\n",
    "    '''\n",
    "    Given a model and a dataset train (X, y).\n",
    "    Generate the splitter and then train the model with the differents folds and return the metrics getting in \n",
    "    the training of each folder\n",
    "    '''\n",
    "    # defining a CV SPLITTER (repeated K folds)\n",
    "    cv = RepeatedKFold(n_splits=10, n_repeats=3, random_state=42)\n",
    "    \n",
    "    # getting the scores for each FOLD\n",
    "    scores = cross_val_score(model, X, y, scoring='neg_root_mean_squared_error', cv=cv)\n",
    "    scores = -scores\n",
    "    \n",
    "    return scores"
   ]
  },
  {
   "cell_type": "code",
   "execution_count": null,
   "id": "0afdafe9",
   "metadata": {},
   "outputs": [],
   "source": []
  },
  {
   "cell_type": "markdown",
   "id": "5df3e269",
   "metadata": {},
   "source": [
    "### 4.- Run the evaluation of the models"
   ]
  },
  {
   "cell_type": "code",
   "execution_count": 10,
   "id": "d2f8e2dc",
   "metadata": {},
   "outputs": [],
   "source": [
    "def evaluate_quality_of_models(X, y, dicc_models):\n",
    "    '''\n",
    "    Evaluate the quality of the models\n",
    "    \n",
    "    Given the dataframe of Train and a dictionary with all the models that will be evaluated using repated cross validation\n",
    "    '''\n",
    "    \n",
    "    # initialize\n",
    "    results_metrics_model, name_model = [], []\n",
    "\n",
    "\n",
    "    # run\n",
    "    for name, model in dicc_models.items():\n",
    "        print('\\nEvaluating... ', name)\n",
    "\n",
    "        # get metrics of each model\n",
    "        scores = evaluate_model(model, X, y)\n",
    "        results_metrics_model.append(scores)\n",
    "        name_model.append(name)\n",
    "\n",
    "        #print\n",
    "        print(f'Mean: {round(np.mean(scores), 3)} // std: {round(np.std(scores), 3)}')\n",
    "        \n",
    "    \n",
    "    return results_metrics_model, name_model"
   ]
  },
  {
   "cell_type": "code",
   "execution_count": 11,
   "id": "decca291",
   "metadata": {},
   "outputs": [
    {
     "name": "stdout",
     "output_type": "stream",
     "text": [
      "\n",
      "Evaluating...  lr\n",
      "Mean: 0.106 // std: 0.008\n",
      "\n",
      "Evaluating...  cart\n",
      "Mean: 191.668 // std: 15.173\n",
      "\n",
      "Evaluating...  rf\n",
      "Mean: 117.237 // std: 7.87\n",
      "\n",
      "Evaluating...  knn\n",
      "Mean: 130.761 // std: 9.204\n",
      "\n",
      "Evaluating...  svr\n",
      "Mean: 203.521 // std: 14.149\n",
      "\n",
      "Evaluating...  xgb\n",
      "Mean: 103.723 // std: 7.738\n",
      "\n",
      "Evaluating...  ltb\n",
      "Mean: 80.177 // std: 7.268\n"
     ]
    }
   ],
   "source": [
    "results_metrics_model, name_model = evaluate_quality_of_models(X = X_train, \n",
    "                                                               y = y_train, \n",
    "                                                               dicc_models = models)"
   ]
  },
  {
   "cell_type": "code",
   "execution_count": null,
   "id": "649db1e6",
   "metadata": {},
   "outputs": [],
   "source": []
  },
  {
   "cell_type": "markdown",
   "id": "d68cca3d",
   "metadata": {},
   "source": [
    "### 5. Make boxplot with the distribution of the metrics of each model"
   ]
  },
  {
   "cell_type": "code",
   "execution_count": 12,
   "id": "95b7ca02",
   "metadata": {},
   "outputs": [
    {
     "data": {
      "image/png": "[encoded data removed]",
      "text/plain": [
       "<Figure size 1440x720 with 1 Axes>"
      ]
     },
     "metadata": {
      "needs_background": "light"
     },
     "output_type": "display_data"
    }
   ],
   "source": [
    "plt.figure(figsize = (20, 10))\n",
    "plt.boxplot(results_metrics_model, labels = name_model, showmeans=True)\n",
    "plt.show()"
   ]
  },
  {
   "cell_type": "code",
   "execution_count": null,
   "id": "156826b6",
   "metadata": {},
   "outputs": [],
   "source": []
  }
 ],
 "metadata": {
  "kernelspec": {
   "display_name": "Python 3 (ipykernel)",
   "language": "python",
   "name": "python3"
  },
  "language_info": {
   "codemirror_mode": {
    "name": "ipython",
    "version": 3
   },
   "file_extension": ".py",
   "mimetype": "text/x-python",
   "name": "python",
   "nbconvert_exporter": "python",
   "pygments_lexer": "ipython3",
   "version": "3.9.7"
  }
 },
 "nbformat": 4,
 "nbformat_minor": 5
}
