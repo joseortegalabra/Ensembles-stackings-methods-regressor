{
 "cells": [
  {
   "cell_type": "markdown",
   "id": "baabca06",
   "metadata": {},
   "source": [
    "## Exploration Ensemble Models\n",
    "- Create and train differents ensemble models (using SKLEARN)\n",
    "- Evaluating then using the distribution of metrics using repeated cross validation (see previos notebook exploration evaluation models)"
   ]
  },
  {
   "cell_type": "code",
   "execution_count": 1,
   "id": "6e350734",
   "metadata": {},
   "outputs": [],
   "source": [
    "import pandas as pd\n",
    "import matplotlib.pyplot as plt\n",
    "import numpy as np\n",
    "import seaborn as sns\n",
    "\n",
    "from sklearn.ensemble import RandomForestRegressor\n",
    "from sklearn.linear_model import LinearRegression\n",
    "from sklearn.neighbors import KNeighborsRegressor\n",
    "from sklearn.tree import DecisionTreeRegressor\n",
    "from sklearn.model_selection import GridSearchCV\n",
    "from sklearn.svm import SVR\n",
    "import xgboost\n",
    "import lightgbm as ltb\n",
    "from sklearn import datasets, linear_model\n",
    "\n",
    "from sklearn.model_selection import RepeatedKFold\n",
    "from sklearn.model_selection import cross_val_score\n",
    "\n",
    "\n",
    "from sklearn.ensemble import StackingRegressor\n",
    "\n",
    "\n",
    "from sklearn.metrics import mean_squared_error\n",
    "from sklearn.metrics import mean_absolute_error\n",
    "\n",
    "\n",
    "import warnings\n",
    "warnings.filterwarnings(\"ignore\")"
   ]
  },
  {
   "cell_type": "code",
   "execution_count": null,
   "id": "6a24cf48",
   "metadata": {},
   "outputs": [],
   "source": []
  },
  {
   "cell_type": "code",
   "execution_count": 2,
   "id": "67d91227",
   "metadata": {},
   "outputs": [],
   "source": [
    "### LOAD AUXILIAR FUNCTIONS NOTEBOOK 1\n",
    "\n",
    "# auxiliar functions\n",
    "def evaluate_metrics(model, X, y_true):\n",
    "    '''\n",
    "    Evaluate rmse, mae, mean of rmse+mae.\n",
    "    \n",
    "    OBS: \n",
    "     - Inside the functions is called the method model.predict()\n",
    "     - Calculate the metrics (using y_true vs y_predict) and save it in a dataframe\n",
    "    '''\n",
    "    # predict\n",
    "    prediction = model.predict(X)\n",
    "    \n",
    "    # create a dataframe where the metrics are saved\n",
    "    df_metrics = pd.DataFrame([], columns = ['metric_value'])\n",
    "    \n",
    "    \n",
    "    #### rmse ####\n",
    "    # calculate\n",
    "    rmse = mean_squared_error(y_true = y_true,\n",
    "                  y_pred = prediction,\n",
    "                  squared = False)\n",
    "    # save df\n",
    "    df_metrics = df_metrics.append(pd.DataFrame([rmse], index = ['RMSE'], columns = ['metric_value']))\n",
    "    print('RMSE: ', rmse)\n",
    "    \n",
    "    \n",
    "    \n",
    "    #### mae ####\n",
    "    # calculate\n",
    "    mae = mean_absolute_error(y_true = y_true,\n",
    "                         y_pred = prediction)\n",
    "    \n",
    "    # save df\n",
    "    df_metrics = df_metrics.append(pd.DataFrame([mae], index = ['MAE'], columns = ['metric_value']))\n",
    "    print('MAE: ', mae)\n",
    "    \n",
    "    \n",
    "    \n",
    "    #### (rmse + mae) / 2 ####\n",
    "    # calculate\n",
    "    rmse_mae = (rmse + mae) / 2\n",
    "    \n",
    "    # save df\n",
    "    df_metrics = df_metrics.append(pd.DataFrame([rmse_mae], index = ['RMSE_MAE'], columns = ['metric_value']))\n",
    "    print('MEAN_RMSE_MAE: ', rmse_mae)\n",
    "    \n",
    "    \n",
    "    return df_metrics\n",
    "\n",
    "\n",
    "def evaluate_quality_models(model, X, y_true, df_metrics):\n",
    "    '''\n",
    "    Make 3 plots evaluating the quality of the models:\n",
    "    1) Scatter plot between true and predicted values\n",
    "    2) Histogram of errors (calcualing y_true - y_pred)\n",
    "    3) Metrics of the models. (the metrics are saved in a dataframe)\n",
    "    \n",
    "    \n",
    "    - df_metrics needs to have this structure (getting using the function evaluate_metrics)\n",
    "                metric_value\n",
    "    RMSE\t    124.345780\n",
    "    MAE\t        100.801996\n",
    "    RMSE_MAE\t112.573888\n",
    "    \n",
    "    '''\n",
    "    \n",
    "    #y_pred = model.predict(X)  # some models return (N_observations, 1) and other models return (N_observations, )\n",
    "    y_pred = model.predict(X).reshape(X.shape[0], 1)\n",
    "\n",
    "    fig, axs = plt.subplots(1, 3, figsize = (20, 5))\n",
    "\n",
    "    # plot scatter y_true vs y_pred\n",
    "    axs[0].scatter(x = y_pred, y = y_true)\n",
    "    axs[0].set_xlabel('y_pred', fontsize = 15)\n",
    "    axs[0].set_ylabel('y_true', fontsize = 15)\n",
    "    axs[0].set_title('y_true vs y_pred', fontsize = 20)\n",
    "\n",
    "\n",
    "    # plot histogram errors, only the difference between real and predicted (y_true - y_pred)\n",
    "    axs[1].hist(y_true - y_pred)\n",
    "    axs[1].set_xlabel('Freq', fontsize = 15)\n",
    "    axs[1].set_ylabel('Errors', fontsize = 15)\n",
    "    axs[1].set_title('Histogram', fontsize = 20)\n",
    "\n",
    "\n",
    "    # plot bar with the values of the metrics using the dataframe\n",
    "    axs[2].grid()\n",
    "    axs[2].bar(x = df_metrics.index, height = df_metrics['metric_value'])\n",
    "    axs[2].set_xlabel('Metrics', fontsize = 15)\n",
    "    axs[2].set_ylabel('Value', fontsize = 15)\n",
    "    axs[2].set_title('Evaluate Metrics', fontsize = 20)\n",
    "\n",
    "\n",
    "    plt.plot()  "
   ]
  },
  {
   "cell_type": "code",
   "execution_count": null,
   "id": "d70adf8e",
   "metadata": {},
   "outputs": [],
   "source": []
  },
  {
   "cell_type": "markdown",
   "id": "bf98c38d",
   "metadata": {},
   "source": [
    "### -1. Root repo"
   ]
  },
  {
   "cell_type": "code",
   "execution_count": 3,
   "id": "a7d0ce79",
   "metadata": {},
   "outputs": [
    {
     "name": "stdout",
     "output_type": "stream",
     "text": [
      "before:  D:\\Github-mi-repo\\Discovery-ensembles-stackings-methods\\discovery\n",
      "after:  D:\\Github-mi-repo\\Discovery-ensembles-stackings-methods\n"
     ]
    }
   ],
   "source": [
    "import os\n",
    "# get actual path\n",
    "actual_path = os.path.abspath(os.getcwd())\n",
    "\n",
    "# divide each folder in the path in a list\n",
    "# delete the last element to get the root path of the local folder\n",
    "list_root_path = actual_path.split('\\\\')[:-1]\n",
    "\n",
    "# join the list in a string with the root\n",
    "root_path = '\\\\'.join(list_root_path)\n",
    "\n",
    "# pararme en el root obtenido\n",
    "os.chdir(root_path)\n",
    "\n",
    "print('before: ', actual_path)\n",
    "print('after: ', root_path)"
   ]
  },
  {
   "cell_type": "code",
   "execution_count": null,
   "id": "224d701c",
   "metadata": {},
   "outputs": [],
   "source": []
  },
  {
   "cell_type": "markdown",
   "id": "da8853ab",
   "metadata": {},
   "source": [
    "###  0. Parameters"
   ]
  },
  {
   "cell_type": "code",
   "execution_count": 4,
   "id": "68672e72",
   "metadata": {},
   "outputs": [],
   "source": [
    "# parameters to dataset\n",
    "path_data_folder = 'data'\n",
    "path_data_example_1 = 'example1'"
   ]
  },
  {
   "cell_type": "code",
   "execution_count": null,
   "id": "152747f3",
   "metadata": {},
   "outputs": [],
   "source": []
  },
  {
   "cell_type": "markdown",
   "id": "ea9b315c",
   "metadata": {},
   "source": [
    "### 1. Load data"
   ]
  },
  {
   "cell_type": "code",
   "execution_count": null,
   "id": "ccdb8cf5",
   "metadata": {},
   "outputs": [],
   "source": []
  },
  {
   "cell_type": "code",
   "execution_count": 5,
   "id": "a9ec747a",
   "metadata": {},
   "outputs": [],
   "source": [
    "# load data\n",
    "def load_data(path_data):\n",
    "    '''\n",
    "    Given the path of the folder where are located the data, load it.\n",
    "    OBS: the data must to be a csv file and separed into X_train, y_train, X_test, y_test\n",
    "    '''\n",
    "    \n",
    "    X_train = pd.read_csv(path_data + '/' + 'X_train.csv', index_col = 0)\n",
    "    y_train = pd.read_csv(path_data + '/' + 'y_train.csv', index_col = 0)\n",
    "\n",
    "    X_test = pd.read_csv(path_data + '/' + 'X_test.csv', index_col = 0)\n",
    "    y_test = pd.read_csv(path_data + '/' + 'y_test.csv', index_col = 0)\n",
    "\n",
    "    print('X_train: ', X_train.shape)\n",
    "    print('y_train: ', y_train.shape)\n",
    "    print('X_test: ', X_test.shape)\n",
    "    print('y_test: ', y_test.shape)\n",
    "    \n",
    "    return X_train, y_train, X_test, y_test"
   ]
  },
  {
   "cell_type": "code",
   "execution_count": 6,
   "id": "b5f1828c",
   "metadata": {},
   "outputs": [
    {
     "name": "stdout",
     "output_type": "stream",
     "text": [
      "X_train:  (800, 20)\n",
      "y_train:  (800, 1)\n",
      "X_test:  (200, 20)\n",
      "y_test:  (200, 1)\n"
     ]
    }
   ],
   "source": [
    "# path\n",
    "path_data = path_data_folder + '/' + path_data_example_1\n",
    "\n",
    "# load data\n",
    "X_train, y_train, X_test, y_test = load_data(path_data)"
   ]
  },
  {
   "cell_type": "code",
   "execution_count": null,
   "id": "621c886c",
   "metadata": {},
   "outputs": [],
   "source": []
  },
  {
   "cell_type": "markdown",
   "id": "1e61ac1c",
   "metadata": {},
   "source": [
    "### 2. EXAMPLE. Create Ensemble/Stacking Model\n",
    "- Create Ensemble model using sklearn library\n",
    "- This ensenble model are composed of **2 levels**: **level 0** has all the models and **level 1** is a simple model por example a regression that ponderate the prediction of the models in level 0\n",
    "\n",
    "**IMPORTANT**\n",
    "- To create a ensemble/stacking model is necesary create a list that contain the models\n",
    "- In the list of level 0 contains all the models (base models). Each model is defined as a tuple with the name of the model and the model: ('model_name', 'model')\n",
    "- In the list of level 1 contain the simple model (ex regression) that ponderate the predictions of the rest of the models"
   ]
  },
  {
   "cell_type": "code",
   "execution_count": 7,
   "id": "dcf51bbd",
   "metadata": {},
   "outputs": [],
   "source": [
    "#### CREATING AN EXAMPLE ESEMBLE MODEL #####\n",
    "\n",
    "# define the base models\n",
    "level0 = []\n",
    "level0.append(('knn', KNeighborsRegressor()))\n",
    "level0.append(('cart', DecisionTreeRegressor(random_state = 42)))\n",
    "level0.append(('svm', SVR()))\n",
    "\n",
    "# define meta learner model\n",
    "level1 = LinearRegression()\n",
    "\n",
    "# define the stacking ensemble\n",
    "ex_ensemble = StackingRegressor(estimators=level0, final_estimator=level1, cv=5)"
   ]
  },
  {
   "cell_type": "code",
   "execution_count": 8,
   "id": "12bdfb2a",
   "metadata": {},
   "outputs": [
    {
     "data": {
      "text/plain": [
       "StackingRegressor(cv=5,\n",
       "                  estimators=[('knn', KNeighborsRegressor()),\n",
       "                              ('cart', DecisionTreeRegressor(random_state=42)),\n",
       "                              ('svm', SVR())],\n",
       "                  final_estimator=LinearRegression())"
      ]
     },
     "execution_count": 8,
     "metadata": {},
     "output_type": "execute_result"
    }
   ],
   "source": [
    "#### TRAIN THE EXAMPLE ENSEMBLE/STACKING MODEL ####\n",
    "ex_ensemble.fit(X_train, y_train)"
   ]
  },
  {
   "cell_type": "code",
   "execution_count": 9,
   "id": "29195e3a",
   "metadata": {},
   "outputs": [
    {
     "name": "stdout",
     "output_type": "stream",
     "text": [
      "RMSE:  70.47467501461242\n",
      "MAE:  55.10918827145844\n",
      "MEAN_RMSE_MAE:  62.791931643035426\n"
     ]
    },
    {
     "data": {
      "image/png": "[encoded data removed]",
      "text/plain": [
       "<Figure size 1440x360 with 3 Axes>"
      ]
     },
     "metadata": {
      "needs_background": "light"
     },
     "output_type": "display_data"
    }
   ],
   "source": [
    "### EVALUATE MODEL EXAMPLE ENSEMBLE (using the functions auxiliar notebook 1)###\n",
    "metrics_ex_ensemble = evaluate_metrics(model = ex_ensemble, \n",
    "                           X = X_test, \n",
    "                           y_true = y_test\n",
    "                          )\n",
    "\n",
    "evaluate_quality_models(model = ex_ensemble, \n",
    "                        X = X_test, \n",
    "                        y_true = y_test, \n",
    "                        df_metrics = metrics_ex_ensemble\n",
    "                       )"
   ]
  },
  {
   "cell_type": "code",
   "execution_count": null,
   "id": "ef5afa0c",
   "metadata": {},
   "outputs": [],
   "source": []
  },
  {
   "cell_type": "markdown",
   "id": "938ddce8",
   "metadata": {},
   "source": [
    "### 3. Create Ensemble Model\n",
    "- Create a function that return the ensemble model\n",
    "\n",
    "- In this example are create 4 ensemble models, the first one has 3 base models, the second one has 4 base models , the third one has 5 models and the last one has 6 base models"
   ]
  },
  {
   "cell_type": "code",
   "execution_count": 10,
   "id": "167fcb98",
   "metadata": {},
   "outputs": [],
   "source": [
    "def ensemble_model_3():\n",
    "    # define the base models\n",
    "    level0 = []\n",
    "    level0.append(('knn', KNeighborsRegressor()))\n",
    "    level0.append(('cart', DecisionTreeRegressor(random_state = 42)))\n",
    "    level0.append(('svm', SVR()))\n",
    "\n",
    "    # define meta learner model\n",
    "    level1 = LinearRegression()\n",
    "\n",
    "    # define the stacking ensemble\n",
    "    model = StackingRegressor(estimators=level0, final_estimator=level1, cv=5)\n",
    "    return model"
   ]
  },
  {
   "cell_type": "code",
   "execution_count": 11,
   "id": "e5af4868",
   "metadata": {},
   "outputs": [],
   "source": [
    "def ensemble_model_4():\n",
    "    # define the base models\n",
    "    level0 = []\n",
    "    level0.append(('knn', KNeighborsRegressor()))\n",
    "    level0.append(('cart', DecisionTreeRegressor(random_state = 42)))\n",
    "    level0.append(('svm', SVR()))\n",
    "    level0.append(('rf', RandomForestRegressor(random_state = 42))) # append model\n",
    "\n",
    "    # define meta learner model\n",
    "    level1 = LinearRegression()\n",
    "\n",
    "    # define the stacking ensemble\n",
    "    model = StackingRegressor(estimators=level0, final_estimator=level1, cv=5)\n",
    "    return model"
   ]
  },
  {
   "cell_type": "code",
   "execution_count": 12,
   "id": "3299a748",
   "metadata": {},
   "outputs": [],
   "source": [
    "def ensemble_model_5():\n",
    "    # define the base models\n",
    "    level0 = []\n",
    "    level0.append(('knn', KNeighborsRegressor()))\n",
    "    level0.append(('cart', DecisionTreeRegressor(random_state = 42)))\n",
    "    level0.append(('svm', SVR()))\n",
    "    level0.append(('rf', RandomForestRegressor(random_state = 42)))\n",
    "    level0.append(('xgb', xgboost.XGBRegressor(random_state = 42))) # append model\n",
    "\n",
    "    # define meta learner model\n",
    "    level1 = LinearRegression()\n",
    "\n",
    "    # define the stacking ensemble\n",
    "    model = StackingRegressor(estimators=level0, final_estimator=level1, cv=5)\n",
    "    return model"
   ]
  },
  {
   "cell_type": "code",
   "execution_count": 13,
   "id": "67c9e25e",
   "metadata": {},
   "outputs": [],
   "source": [
    "def ensemble_model_6():\n",
    "    # define the base models\n",
    "    level0 = []\n",
    "    level0.append(('knn', KNeighborsRegressor()))\n",
    "    level0.append(('cart', DecisionTreeRegressor(random_state = 42)))\n",
    "    level0.append(('svm', SVR()))\n",
    "    level0.append(('rf', RandomForestRegressor(random_state = 42)))\n",
    "    level0.append(('xgb', xgboost.XGBRegressor(random_state = 42)))\n",
    "    level0.append(('ltb', ltb.LGBMRegressor(random_state = 42))) # append model\n",
    "\n",
    "    # define meta learner model\n",
    "    level1 = LinearRegression()\n",
    "\n",
    "    # define the stacking ensemble\n",
    "    model = StackingRegressor(estimators=level0, final_estimator=level1, cv=5)\n",
    "    return model"
   ]
  },
  {
   "cell_type": "code",
   "execution_count": null,
   "id": "9af23212",
   "metadata": {},
   "outputs": [],
   "source": []
  },
  {
   "cell_type": "markdown",
   "id": "91c66c18",
   "metadata": {},
   "source": [
    "### 4.- Evaluate quality of the models (individuals and ensemble models) (cross validation)\n",
    "- Evaluate the distributions of the METRICS of each model using repeated cross validation\n",
    "\n",
    "- Evaluate the individuals models generated in the notebook and the ensemble models generated in the last step"
   ]
  },
  {
   "cell_type": "code",
   "execution_count": 14,
   "id": "351766be",
   "metadata": {},
   "outputs": [],
   "source": [
    "# create a function that have ALL THE MODELS (individual and ensemble models)THAT WILL BE EVALUATED. \n",
    "# return a dictionary with these models\n",
    "\n",
    "def get_models():\n",
    "    '''\n",
    "    Create a function that have ALL THE MODELS THAT WILL trained\n",
    "    '''\n",
    "    # create a dictionary where are saved the different models that will be trained\n",
    "    models = dict()\n",
    "\n",
    "    # complete dictionary with models\n",
    "    models['lr'] = LinearRegression()\n",
    "    models['cart'] = DecisionTreeRegressor(random_state = 42)\n",
    "    models['rf'] = RandomForestRegressor(random_state = 42)\n",
    "    models['knn'] = KNeighborsRegressor()\n",
    "    models['svr'] = SVR()\n",
    "    models['xgb'] = xgboost.XGBRegressor(random_state = 42)\n",
    "    models['ltb'] = ltb.LGBMRegressor(random_state = 42)\n",
    "    models['ensemble3'] = ensemble_model_3()\n",
    "    models['ensemble4'] = ensemble_model_4()\n",
    "    models['ensemble5'] = ensemble_model_5()\n",
    "    models['ensemble6'] = ensemble_model_6()\n",
    "    \n",
    "    # return dictionary with the models\n",
    "    return models"
   ]
  },
  {
   "cell_type": "code",
   "execution_count": 15,
   "id": "75753b32",
   "metadata": {},
   "outputs": [],
   "source": [
    "def evaluate_model(model, X, y):\n",
    "    '''\n",
    "    Given a model and a dataset train (X, y).\n",
    "    Generate the splitter and then train the model with the differents folds and return the metrics getting in \n",
    "    the training of each folder\n",
    "    '''\n",
    "    # defining a CV SPLITTER (repeated K folds)\n",
    "    cv = RepeatedKFold(n_splits=10, n_repeats=3, random_state=42)\n",
    "    \n",
    "    # getting the scores for each FOLD\n",
    "    scores = cross_val_score(model, X, y, scoring='neg_root_mean_squared_error', cv=cv)\n",
    "    scores = -scores\n",
    "    \n",
    "    return scores"
   ]
  },
  {
   "cell_type": "code",
   "execution_count": 16,
   "id": "3dcd1fe3",
   "metadata": {},
   "outputs": [],
   "source": [
    "def evaluate_quality_of_models(X, y, dicc_models):\n",
    "    '''\n",
    "    Evaluate the quality of the models\n",
    "    \n",
    "    Given the dataframe of Train and a dictionary with all the models that will be evaluated using repated cross validation\n",
    "    '''\n",
    "    \n",
    "    # initialize\n",
    "    results_metrics_model, name_model = [], []\n",
    "\n",
    "\n",
    "    # run\n",
    "    for name, model in dicc_models.items():\n",
    "        print('\\nEvaluating... ', name)\n",
    "\n",
    "        # get metrics of each model\n",
    "        scores = evaluate_model(model, X, y)\n",
    "        results_metrics_model.append(scores)\n",
    "        name_model.append(name)\n",
    "\n",
    "        #print\n",
    "        print(f'Mean: {round(np.mean(scores), 3)} // std: {round(np.std(scores), 3)}')\n",
    "        \n",
    "    \n",
    "    return results_metrics_model, name_model"
   ]
  },
  {
   "cell_type": "code",
   "execution_count": 17,
   "id": "d5d577ec",
   "metadata": {},
   "outputs": [],
   "source": [
    "models = get_models()"
   ]
  },
  {
   "cell_type": "code",
   "execution_count": 18,
   "id": "bd939c43",
   "metadata": {},
   "outputs": [
    {
     "name": "stdout",
     "output_type": "stream",
     "text": [
      "\n",
      "Evaluating...  lr\n",
      "Mean: 0.106 // std: 0.008\n",
      "\n",
      "Evaluating...  cart\n",
      "Mean: 191.668 // std: 15.173\n",
      "\n",
      "Evaluating...  rf\n",
      "Mean: 117.237 // std: 7.87\n",
      "\n",
      "Evaluating...  knn\n",
      "Mean: 130.761 // std: 9.204\n",
      "\n",
      "Evaluating...  svr\n",
      "Mean: 203.521 // std: 14.149\n",
      "\n",
      "Evaluating...  xgb\n",
      "Mean: 103.723 // std: 7.738\n",
      "\n",
      "Evaluating...  ltb\n",
      "Mean: 80.177 // std: 7.268\n",
      "\n",
      "Evaluating...  ensemble3\n",
      "Mean: 78.987 // std: 8.378\n",
      "\n",
      "Evaluating...  ensemble4\n",
      "Mean: 69.977 // std: 5.089\n",
      "\n",
      "Evaluating...  ensemble5\n",
      "Mean: 67.939 // std: 4.812\n",
      "\n",
      "Evaluating...  ensemble6\n",
      "Mean: 60.082 // std: 6.093\n"
     ]
    }
   ],
   "source": [
    "results_metrics_model, name_model = evaluate_quality_of_models(X = X_train, \n",
    "                                                               y = y_train, \n",
    "                                                               dicc_models = models)"
   ]
  },
  {
   "cell_type": "code",
   "execution_count": null,
   "id": "1af5688e",
   "metadata": {},
   "outputs": [],
   "source": []
  },
  {
   "cell_type": "markdown",
   "id": "d2e6b01d",
   "metadata": {},
   "source": [
    "### 5.- Make boxplot with the distribution of the metrics of each model"
   ]
  },
  {
   "cell_type": "code",
   "execution_count": 26,
   "id": "626d5b8a",
   "metadata": {},
   "outputs": [
    {
     "data": {
      "image/png": "[encoded data removed]",
      "text/plain": [
       "<Figure size 1440x720 with 1 Axes>"
      ]
     },
     "metadata": {
      "needs_background": "light"
     },
     "output_type": "display_data"
    }
   ],
   "source": [
    "plt.figure(figsize = (20, 10))\n",
    "plt.boxplot(results_metrics_model, labels = name_model, showmeans=True)\n",
    "plt.savefig(fname = f'reports/results_{path_data_example_1}')\n",
    "#plt.show()"
   ]
  },
  {
   "cell_type": "code",
   "execution_count": null,
   "id": "497691dc",
   "metadata": {},
   "outputs": [],
   "source": []
  },
  {
   "cell_type": "markdown",
   "id": "d42284d1",
   "metadata": {},
   "source": [
    "### 6.- Get the best 2 models (and the worse model) and train it with all train data and evaluate the models with test data\n",
    "\n",
    "TODO: IMPROVE THE CODES TO SELECT AUTOMATICALLY THE BEST 2 MODELS"
   ]
  },
  {
   "cell_type": "code",
   "execution_count": null,
   "id": "48f0beb0",
   "metadata": {},
   "outputs": [],
   "source": [
    "results_metrics_model, name_model"
   ]
  },
  {
   "cell_type": "code",
   "execution_count": 37,
   "id": "eebf1d58",
   "metadata": {},
   "outputs": [
    {
     "data": {
      "text/plain": [
       "[0.10648688740557669,\n",
       " 191.66800706361866,\n",
       " 117.23680743339261,\n",
       " 130.76129356743465,\n",
       " 203.5207244603194,\n",
       " 103.72295752839597,\n",
       " 80.17722286089896,\n",
       " 78.98653116789728,\n",
       " 69.97717019538223,\n",
       " 67.93926983649683,\n",
       " 60.08233533359349]"
      ]
     },
     "execution_count": 37,
     "metadata": {},
     "output_type": "execute_result"
    }
   ],
   "source": [
    "# calculate the mean of the metric of each model\n",
    "mean_metric_each_model = [np.mean(metric_values) for metric_values in results_metrics_model]\n",
    "mean_metric_each_model"
   ]
  },
  {
   "cell_type": "code",
   "execution_count": 42,
   "id": "cd141733",
   "metadata": {},
   "outputs": [],
   "source": [
    "# get the best 2 models (and the worst) and evaluate it with test data (firts train the models with all data train)"
   ]
  },
  {
   "cell_type": "code",
   "execution_count": 43,
   "id": "a89c74f0",
   "metadata": {},
   "outputs": [
    {
     "name": "stdout",
     "output_type": "stream",
     "text": [
      "RMSE:  0.10338775000322843\n",
      "MAE:  0.07739007422484658\n",
      "MEAN_RMSE_MAE:  0.0903889121140375\n"
     ]
    },
    {
     "data": {
      "image/png": "[encoded data removed]",
      "text/plain": [
       "<Figure size 1440x360 with 3 Axes>"
      ]
     },
     "metadata": {
      "needs_background": "light"
     },
     "output_type": "display_data"
    }
   ],
   "source": [
    "# MODEL 1: LINEAR REGRESSION\n",
    "\n",
    "lr = LinearRegression()\n",
    "lr.fit(X_train, y_train)\n",
    "\n",
    "metrics_lr = evaluate_metrics(model = lr, \n",
    "                           X = X_test, \n",
    "                           y_true = y_test\n",
    "                          )\n",
    "\n",
    "evaluate_quality_models(model = lr, \n",
    "                        X = X_test, \n",
    "                        y_true = y_test, \n",
    "                        df_metrics = metrics_lr\n",
    "                       )"
   ]
  },
  {
   "cell_type": "code",
   "execution_count": 45,
   "id": "bb8406ba",
   "metadata": {},
   "outputs": [
    {
     "name": "stdout",
     "output_type": "stream",
     "text": [
      "RMSE:  51.55080305030532\n",
      "MAE:  40.1768668398748\n",
      "MEAN_RMSE_MAE:  45.86383494509006\n"
     ]
    },
    {
     "data": {
      "image/png": "[encoded data removed]",
      "text/plain": [
       "<Figure size 1440x360 with 3 Axes>"
      ]
     },
     "metadata": {
      "needs_background": "light"
     },
     "output_type": "display_data"
    }
   ],
   "source": [
    "# MODEL 2: ESEMBLE 6\n",
    "ensemble6 = ensemble_model_6()\n",
    "\n",
    "ensemble6.fit(X_train, y_train)\n",
    "\n",
    "metrics_ensemble6 = evaluate_metrics(model = ensemble6, \n",
    "                           X = X_test, \n",
    "                           y_true = y_test\n",
    "                          )\n",
    "\n",
    "evaluate_quality_models(model = ensemble6, \n",
    "                        X = X_test, \n",
    "                        y_true = y_test, \n",
    "                        df_metrics = metrics_ensemble6\n",
    "                       )"
   ]
  },
  {
   "cell_type": "code",
   "execution_count": 46,
   "id": "8bec967c",
   "metadata": {},
   "outputs": [
    {
     "name": "stdout",
     "output_type": "stream",
     "text": [
      "RMSE:  212.81802033327156\n",
      "MAE:  172.37100645552746\n",
      "MEAN_RMSE_MAE:  192.5945133943995\n"
     ]
    },
    {
     "data": {
      "image/png": "[encoded data removed]",
      "text/plain": [
       "<Figure size 1440x360 with 3 Axes>"
      ]
     },
     "metadata": {
      "needs_background": "light"
     },
     "output_type": "display_data"
    }
   ],
   "source": [
    "# WORSE MODEL\n",
    "\n",
    "svr = SVR()\n",
    "\n",
    "svr.fit(X_train, y_train)\n",
    "\n",
    "metrics_svr = evaluate_metrics(model = svr, \n",
    "                           X = X_test, \n",
    "                           y_true = y_test\n",
    "                          )\n",
    "\n",
    "evaluate_quality_models(model = svr, \n",
    "                        X = X_test, \n",
    "                        y_true = y_test, \n",
    "                        df_metrics = metrics_svr\n",
    "                       )"
   ]
  },
  {
   "cell_type": "code",
   "execution_count": null,
   "id": "4ff8c5b8",
   "metadata": {},
   "outputs": [],
   "source": []
  }
 ],
 "metadata": {
  "kernelspec": {
   "display_name": "Python 3 (ipykernel)",
   "language": "python",
   "name": "python3"
  },
  "language_info": {
   "codemirror_mode": {
    "name": "ipython",
    "version": 3
   },
   "file_extension": ".py",
   "mimetype": "text/x-python",
   "name": "python",
   "nbconvert_exporter": "python",
   "pygments_lexer": "ipython3",
   "version": "3.9.7"
  }
 },
 "nbformat": 4,
 "nbformat_minor": 5
}
