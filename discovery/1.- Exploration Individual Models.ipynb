{
 "cells": [
  {
   "cell_type": "markdown",
   "id": "6c5c580c",
   "metadata": {},
   "source": [
    "## Exploratory Individuals Models\n",
    "Content:\n",
    "- Training of differents models (without cross-validation and without hp tunning, only train ONE MODEL)\n",
    "- Evaluation how the models work comparind different metrics (for example RME, MAE, custom compose metric) and visualization the results (plot true vs predict label and histogram of errors)"
   ]
  },
  {
   "cell_type": "code",
   "execution_count": 1,
   "id": "ac0ddd0d",
   "metadata": {},
   "outputs": [],
   "source": [
    "import pandas as pd\n",
    "import matplotlib.pyplot as plt\n",
    "import numpy as np\n",
    "import seaborn as sns\n",
    "\n",
    "from sklearn.ensemble import RandomForestRegressor\n",
    "from sklearn.linear_model import LinearRegression\n",
    "from sklearn.neighbors import KNeighborsRegressor\n",
    "from sklearn.tree import DecisionTreeRegressor\n",
    "from sklearn.model_selection import GridSearchCV\n",
    "from sklearn.svm import SVR\n",
    "import xgboost\n",
    "import lightgbm as ltb\n",
    "from sklearn import datasets, linear_model\n",
    "\n",
    "from sklearn.metrics import mean_squared_error\n",
    "from sklearn.metrics import mean_absolute_error"
   ]
  },
  {
   "cell_type": "markdown",
   "id": "63e12dd3",
   "metadata": {},
   "source": [
    "### -1. Root repo"
   ]
  },
  {
   "cell_type": "code",
   "execution_count": 2,
   "id": "ff4bd99c",
   "metadata": {},
   "outputs": [
    {
     "name": "stdout",
     "output_type": "stream",
     "text": [
      "before:  D:\\Github-mi-repo\\Discovery-ensembles-stackings-methods\\discovery\n",
      "after:  D:\\Github-mi-repo\\Discovery-ensembles-stackings-methods\n"
     ]
    }
   ],
   "source": [
    "import os\n",
    "# get actual path\n",
    "actual_path = os.path.abspath(os.getcwd())\n",
    "\n",
    "# divide each folder in the path in a list\n",
    "# delete the last element to get the root path of the local folder\n",
    "list_root_path = actual_path.split('\\\\')[:-1]\n",
    "\n",
    "# join the list in a string with the root\n",
    "root_path = '\\\\'.join(list_root_path)\n",
    "\n",
    "# pararme en el root obtenido\n",
    "os.chdir(root_path)\n",
    "\n",
    "print('before: ', actual_path)\n",
    "print('after: ', root_path)"
   ]
  },
  {
   "cell_type": "code",
   "execution_count": null,
   "id": "d800385e",
   "metadata": {},
   "outputs": [],
   "source": []
  },
  {
   "cell_type": "markdown",
   "id": "7f020d7d",
   "metadata": {},
   "source": [
    "###  0. Parameters"
   ]
  },
  {
   "cell_type": "code",
   "execution_count": 3,
   "id": "923ab823",
   "metadata": {},
   "outputs": [],
   "source": [
    "# parameters to dataset\n",
    "path_data_folder = 'data'\n",
    "path_data_example_1 = 'example1'"
   ]
  },
  {
   "cell_type": "markdown",
   "id": "3863cd8b",
   "metadata": {},
   "source": [
    "### 1. Load data"
   ]
  },
  {
   "cell_type": "code",
   "execution_count": 4,
   "id": "85a83bcd",
   "metadata": {},
   "outputs": [],
   "source": [
    "# path\n",
    "path_data = path_data_folder + '/' + path_data_example_1"
   ]
  },
  {
   "cell_type": "code",
   "execution_count": 5,
   "id": "256e862f",
   "metadata": {},
   "outputs": [
    {
     "name": "stdout",
     "output_type": "stream",
     "text": [
      "X_train:  (800, 20)\n",
      "y_train:  (800, 1)\n",
      "X_test:  (200, 20)\n",
      "y_test:  (200, 1)\n"
     ]
    }
   ],
   "source": [
    "# load data\n",
    "X_train = pd.read_csv(path_data + '/' + 'X_train.csv', index_col = 0)\n",
    "y_train = pd.read_csv(path_data + '/' + 'y_train.csv', index_col = 0)\n",
    "\n",
    "X_test = pd.read_csv(path_data + '/' + 'X_test.csv', index_col = 0)\n",
    "y_test = pd.read_csv(path_data + '/' + 'y_test.csv', index_col = 0)\n",
    "\n",
    "print('X_train: ', X_train.shape)\n",
    "print('y_train: ', y_train.shape)\n",
    "print('X_test: ', X_test.shape)\n",
    "print('y_test: ', y_test.shape)"
   ]
  },
  {
   "cell_type": "code",
   "execution_count": null,
   "id": "9a681fa4",
   "metadata": {},
   "outputs": [],
   "source": []
  },
  {
   "cell_type": "markdown",
   "id": "2f915be2",
   "metadata": {},
   "source": [
    "### 2. Try models\n",
    "- Try different models\n",
    "- Models without changes in its parameters"
   ]
  },
  {
   "cell_type": "code",
   "execution_count": 6,
   "id": "ab8886e8",
   "metadata": {},
   "outputs": [],
   "source": [
    "# auxiliar functions\n",
    "def evaluate_metrics(model, X, y_true):\n",
    "    '''\n",
    "    Evaluate rmse, mae, mean of rmse+mae.\n",
    "    \n",
    "    OBS: \n",
    "     - Inside the functions is called the method model.predict()\n",
    "     - Calculate the metrics (using y_true vs y_predict) and save it in a dataframe\n",
    "    '''\n",
    "    # predict\n",
    "    prediction = model.predict(X)\n",
    "    \n",
    "    # create a dataframe where the metrics are saved\n",
    "    df_metrics = pd.DataFrame([], columns = ['metric_value'])\n",
    "    \n",
    "    \n",
    "    #### rmse ####\n",
    "    # calculate\n",
    "    rmse = mean_squared_error(y_true = y_true,\n",
    "                  y_pred = prediction,\n",
    "                  squared = False)\n",
    "    # save df\n",
    "    df_metrics = df_metrics.append(pd.DataFrame([rmse], index = ['RMSE'], columns = ['metric_value']))\n",
    "    print('RMSE: ', rmse)\n",
    "    \n",
    "    \n",
    "    \n",
    "    #### mae ####\n",
    "    # calculate\n",
    "    mae = mean_absolute_error(y_true = y_true,\n",
    "                         y_pred = prediction)\n",
    "    \n",
    "    # save df\n",
    "    df_metrics = df_metrics.append(pd.DataFrame([mae], index = ['MAE'], columns = ['metric_value']))\n",
    "    print('MAE: ', mae)\n",
    "    \n",
    "    \n",
    "    \n",
    "    #### (rmse + mae) / 2 ####\n",
    "    # calculate\n",
    "    rmse_mae = (rmse + mae) / 2\n",
    "    \n",
    "    # save df\n",
    "    df_metrics = df_metrics.append(pd.DataFrame([rmse_mae], index = ['RMSE_MAE'], columns = ['metric_value']))\n",
    "    print('MEAN_RMSE_MAE: ', rmse_mae)\n",
    "    \n",
    "    \n",
    "    return df_metrics\n",
    "\n",
    "\n",
    "def evaluate_quality_models(model, X, y_true, df_metrics):\n",
    "    '''\n",
    "    Make 3 plots evaluating the quality of the models:\n",
    "    1) Scatter plot between true and predicted values\n",
    "    2) Histogram of errors (calcualing y_true - y_pred)\n",
    "    3) Metrics of the models. (the metrics are saved in a dataframe)\n",
    "    \n",
    "    \n",
    "    - df_metrics needs to have this structure (getting using the function evaluate_metrics)\n",
    "                metric_value\n",
    "    RMSE\t    124.345780\n",
    "    MAE\t        100.801996\n",
    "    RMSE_MAE\t112.573888\n",
    "    \n",
    "    '''\n",
    "    \n",
    "    #y_pred = model.predict(X)  # some models return (N_observations, 1) and other models return (N_observations, )\n",
    "    y_pred = model.predict(X).reshape(X.shape[0], 1)\n",
    "\n",
    "    fig, axs = plt.subplots(1, 3, figsize = (20, 5))\n",
    "\n",
    "    # plot scatter y_true vs y_pred\n",
    "    axs[0].scatter(x = y_pred, y = y_true)\n",
    "    axs[0].set_xlabel('y_pred', fontsize = 15)\n",
    "    axs[0].set_ylabel('y_true', fontsize = 15)\n",
    "    axs[0].set_title('y_true vs y_pred', fontsize = 20)\n",
    "\n",
    "\n",
    "    # plot histogram errors, only the difference between real and predicted (y_true - y_pred)\n",
    "    axs[1].hist(y_true - y_pred)\n",
    "    axs[1].set_xlabel('Freq', fontsize = 15)\n",
    "    axs[1].set_ylabel('Errors', fontsize = 15)\n",
    "    axs[1].set_title('Histogram', fontsize = 20)\n",
    "\n",
    "\n",
    "    # plot bar with the values of the metrics using the dataframe\n",
    "    axs[2].grid()\n",
    "    axs[2].bar(x = df_metrics.index, height = df_metrics['metric_value'])\n",
    "    axs[2].set_xlabel('Metrics', fontsize = 15)\n",
    "    axs[2].set_ylabel('Value', fontsize = 15)\n",
    "    axs[2].set_title('Evaluate Metrics', fontsize = 20)\n",
    "\n",
    "\n",
    "    plt.plot()  "
   ]
  },
  {
   "cell_type": "code",
   "execution_count": null,
   "id": "34dde802",
   "metadata": {},
   "outputs": [],
   "source": []
  },
  {
   "cell_type": "markdown",
   "id": "4b81b777",
   "metadata": {},
   "source": [
    "### 2.1 Linear regression\n",
    "- Linear regression works very well, this why the data is ficticius generated ussing a regression.\n",
    "- On the other hand, models with more parameters works very bad because these models learn a lot of noise"
   ]
  },
  {
   "cell_type": "code",
   "execution_count": 7,
   "id": "38306111",
   "metadata": {},
   "outputs": [
    {
     "name": "stdout",
     "output_type": "stream",
     "text": [
      "RMSE:  0.10338775000322843\n",
      "MAE:  0.07739007422484658\n",
      "MEAN_RMSE_MAE:  0.0903889121140375\n"
     ]
    },
    {
     "data": {
      "image/png": "[encoded data removed]",
      "text/plain": [
       "<Figure size 1440x360 with 3 Axes>"
      ]
     },
     "metadata": {
      "needs_background": "light"
     },
     "output_type": "display_data"
    }
   ],
   "source": [
    "lr = LinearRegression()\n",
    "lr.fit(X_train, y_train)\n",
    "\n",
    "metrics_lr = evaluate_metrics(model = lr, \n",
    "                           X = X_test, \n",
    "                           y_true = y_test\n",
    "                          )\n",
    "\n",
    "evaluate_quality_models(model = lr, \n",
    "                        X = X_test, \n",
    "                        y_true = y_test, \n",
    "                        df_metrics = metrics_lr\n",
    "                       )"
   ]
  },
  {
   "cell_type": "code",
   "execution_count": null,
   "id": "14664904",
   "metadata": {},
   "outputs": [],
   "source": []
  },
  {
   "cell_type": "markdown",
   "id": "259bc685",
   "metadata": {},
   "source": [
    "### 2.2 Decision Tree"
   ]
  },
  {
   "cell_type": "code",
   "execution_count": 50,
   "id": "441e6124",
   "metadata": {},
   "outputs": [
    {
     "name": "stdout",
     "output_type": "stream",
     "text": [
      "RMSE:  173.95837138355637\n",
      "MAE:  139.35543041215064\n",
      "MEAN_RMSE_MAE:  156.65690089785352\n"
     ]
    },
    {
     "data": {
      "image/png": "[encoded data removed]",
      "text/plain": [
       "<Figure size 1440x360 with 3 Axes>"
      ]
     },
     "metadata": {
      "needs_background": "light"
     },
     "output_type": "display_data"
    }
   ],
   "source": [
    "cart = DecisionTreeRegressor(random_state = 42)\n",
    "cart.fit(X_train, y_train)\n",
    "\n",
    "metrics_cart = evaluate_metrics(model = cart, \n",
    "                           X = X_test, \n",
    "                           y_true = y_test\n",
    "                          )\n",
    "\n",
    "evaluate_quality_models(model = cart, \n",
    "                        X = X_test, \n",
    "                        y_true = y_test, \n",
    "                        df_metrics = metrics_cart\n",
    "                       )"
   ]
  },
  {
   "cell_type": "code",
   "execution_count": null,
   "id": "7198ba72",
   "metadata": {},
   "outputs": [],
   "source": []
  },
  {
   "cell_type": "markdown",
   "id": "dfbbc139",
   "metadata": {},
   "source": [
    "### 2.3 Random Forest"
   ]
  },
  {
   "cell_type": "code",
   "execution_count": 9,
   "id": "0dbd941b",
   "metadata": {},
   "outputs": [
    {
     "name": "stderr",
     "output_type": "stream",
     "text": [
      "C:\\Users\\JORTEGAL\\AppData\\Local\\Temp/ipykernel_33820/3960736135.py:2: DataConversionWarning: A column-vector y was passed when a 1d array was expected. Please change the shape of y to (n_samples,), for example using ravel().\n",
      "  rf.fit(X_train, y_train)\n"
     ]
    },
    {
     "name": "stdout",
     "output_type": "stream",
     "text": [
      "RMSE:  114.32123189855736\n",
      "MAE:  91.24105431647007\n",
      "MEAN_RMSE_MAE:  102.78114310751371\n"
     ]
    },
    {
     "data": {
      "image/png": "[encoded data removed]",
      "text/plain": [
       "<Figure size 1440x360 with 3 Axes>"
      ]
     },
     "metadata": {
      "needs_background": "light"
     },
     "output_type": "display_data"
    }
   ],
   "source": [
    "rf = RandomForestRegressor(random_state = 42)\n",
    "rf.fit(X_train, y_train)\n",
    "\n",
    "metrics_rf = evaluate_metrics(model = rf, \n",
    "                           X = X_test, \n",
    "                           y_true = y_test\n",
    "                          )\n",
    "\n",
    "evaluate_quality_models(model = rf, \n",
    "                        X = X_test, \n",
    "                        y_true = y_test, \n",
    "                        df_metrics = metrics_rf\n",
    "                       )"
   ]
  },
  {
   "cell_type": "markdown",
   "id": "3f59b37f",
   "metadata": {},
   "source": [
    "### 2.4. KNN"
   ]
  },
  {
   "cell_type": "code",
   "execution_count": 53,
   "id": "cac35f0b",
   "metadata": {},
   "outputs": [
    {
     "name": "stdout",
     "output_type": "stream",
     "text": [
      "RMSE:  124.34578014495226\n",
      "MAE:  100.80199608802015\n",
      "MEAN_RMSE_MAE:  112.5738881164862\n"
     ]
    },
    {
     "data": {
      "image/png": "[encoded data removed]",
      "text/plain": [
       "<Figure size 1440x360 with 3 Axes>"
      ]
     },
     "metadata": {
      "needs_background": "light"
     },
     "output_type": "display_data"
    }
   ],
   "source": [
    "knn = KNeighborsRegressor()\n",
    "knn.fit(X_train, y_train)\n",
    "\n",
    "metrics_knn = evaluate_metrics(model = knn, \n",
    "                           X = X_test, \n",
    "                           y_true = y_test\n",
    "                          )\n",
    "\n",
    "evaluate_quality_models(model = knn, \n",
    "                        X = X_test, \n",
    "                        y_true = y_test, \n",
    "                        df_metrics = metrics_knn\n",
    "                       )"
   ]
  },
  {
   "cell_type": "markdown",
   "id": "503f32c9",
   "metadata": {},
   "source": [
    "### 2.5 SVM\n",
    "Suport verctor regression"
   ]
  },
  {
   "cell_type": "code",
   "execution_count": 58,
   "id": "fa63b8cf",
   "metadata": {},
   "outputs": [
    {
     "name": "stderr",
     "output_type": "stream",
     "text": [
      "D:\\Anaconda3\\envs\\data-science-gcp\\lib\\site-packages\\sklearn\\utils\\validation.py:63: DataConversionWarning: A column-vector y was passed when a 1d array was expected. Please change the shape of y to (n_samples, ), for example using ravel().\n",
      "  return f(*args, **kwargs)\n"
     ]
    },
    {
     "name": "stdout",
     "output_type": "stream",
     "text": [
      "RMSE:  212.81802033327156\n",
      "MAE:  172.37100645552746\n",
      "MEAN_RMSE_MAE:  192.5945133943995\n"
     ]
    },
    {
     "data": {
      "image/png": "[encoded data removed]",
      "text/plain": [
       "<Figure size 1440x360 with 3 Axes>"
      ]
     },
     "metadata": {
      "needs_background": "light"
     },
     "output_type": "display_data"
    }
   ],
   "source": [
    "svr = SVR()\n",
    "\n",
    "svr.fit(X_train, y_train)\n",
    "\n",
    "metrics_svr = evaluate_metrics(model = svr, \n",
    "                           X = X_test, \n",
    "                           y_true = y_test\n",
    "                          )\n",
    "\n",
    "evaluate_quality_models(model = svr, \n",
    "                        X = X_test, \n",
    "                        y_true = y_test, \n",
    "                        df_metrics = metrics_svr\n",
    "                       )"
   ]
  },
  {
   "cell_type": "markdown",
   "id": "fec65a55",
   "metadata": {},
   "source": [
    "### 2.6 XGBOOST"
   ]
  },
  {
   "cell_type": "code",
   "execution_count": 12,
   "id": "6a7b84e3",
   "metadata": {},
   "outputs": [],
   "source": [
    "# ! pip install xgboost"
   ]
  },
  {
   "cell_type": "code",
   "execution_count": 13,
   "id": "0905cf91",
   "metadata": {},
   "outputs": [
    {
     "name": "stdout",
     "output_type": "stream",
     "text": [
      "RMSE:  96.93264031953004\n",
      "MAE:  76.07411192166748\n",
      "MEAN_RMSE_MAE:  86.50337612059876\n"
     ]
    },
    {
     "data": {
      "image/png": "[encoded data removed]",
      "text/plain": [
       "<Figure size 1440x360 with 3 Axes>"
      ]
     },
     "metadata": {
      "needs_background": "light"
     },
     "output_type": "display_data"
    }
   ],
   "source": [
    "xgb = xgboost.XGBRegressor(random_state = 42)\n",
    "\n",
    "xgb.fit(X_train, y_train)\n",
    "\n",
    "metrics_xgb = evaluate_metrics(model = xgb, \n",
    "                           X = X_test, \n",
    "                           y_true = y_test\n",
    "                          )\n",
    "\n",
    "evaluate_quality_models(model = xgb, \n",
    "                        X = X_test, \n",
    "                        y_true = y_test, \n",
    "                        df_metrics = metrics_xgb\n",
    "                       )"
   ]
  },
  {
   "cell_type": "markdown",
   "id": "0b052e8c",
   "metadata": {},
   "source": [
    "### 2.7 lightgbm"
   ]
  },
  {
   "cell_type": "code",
   "execution_count": 14,
   "id": "65d0b39d",
   "metadata": {},
   "outputs": [],
   "source": [
    "# ! pip install lightgbm"
   ]
  },
  {
   "cell_type": "code",
   "execution_count": 15,
   "id": "034e5d93",
   "metadata": {},
   "outputs": [
    {
     "name": "stdout",
     "output_type": "stream",
     "text": [
      "RMSE:  75.35574438004164\n",
      "MAE:  59.36475622661192\n",
      "MEAN_RMSE_MAE:  67.36025030332678\n"
     ]
    },
    {
     "data": {
      "image/png": "[encoded data removed]",
      "text/plain": [
       "<Figure size 1440x360 with 3 Axes>"
      ]
     },
     "metadata": {
      "needs_background": "light"
     },
     "output_type": "display_data"
    }
   ],
   "source": [
    "ltb_reg = ltb.LGBMRegressor(random_state = 42)\n",
    "\n",
    "ltb_reg.fit(X_train, y_train)\n",
    "\n",
    "metrics_ltb_reg = evaluate_metrics(model = ltb_reg, \n",
    "                           X = X_test, \n",
    "                           y_true = y_test\n",
    "                          )\n",
    "\n",
    "evaluate_quality_models(model = ltb_reg, \n",
    "                        X = X_test, \n",
    "                        y_true = y_test, \n",
    "                        df_metrics = metrics_ltb_reg\n",
    "                       )"
   ]
  },
  {
   "cell_type": "markdown",
   "id": "18774622",
   "metadata": {},
   "source": [
    "### 2.8 Try HP tunning (with 5Folds) in the Random Forest Model"
   ]
  },
  {
   "cell_type": "code",
   "execution_count": 16,
   "id": "4810d7d0",
   "metadata": {},
   "outputs": [],
   "source": [
    "# params to hp tunning\n",
    "parameters_grid = {\n",
    "    'n_estimators': [5, 10, 25, 50, 100, 150, 200],\n",
    "    'min_samples_split': [0.01, 0.05, 0.05, 0.10, 0.15, 0.20],\n",
    "    'min_samples_leaf': [0.01, 0.05, 0.05, 0.10, 0.15, 0.20]\n",
    "}"
   ]
  },
  {
   "cell_type": "code",
   "execution_count": 17,
   "id": "84b2d27b",
   "metadata": {},
   "outputs": [],
   "source": [
    "# base model model\n",
    "rf = RandomForestRegressor(random_state = 42)"
   ]
  },
  {
   "cell_type": "code",
   "execution_count": 18,
   "id": "4a1cd0dd",
   "metadata": {},
   "outputs": [],
   "source": [
    "rf_cv = GridSearchCV(estimator = rf, \n",
    "                     param_grid = parameters_grid, \n",
    "                     cv= 5,\n",
    "                     scoring = 'neg_mean_absolute_error',\n",
    "                     n_jobs = -1,\n",
    "                     verbose = 1\n",
    "                    )"
   ]
  },
  {
   "cell_type": "code",
   "execution_count": 19,
   "id": "18e7c67f",
   "metadata": {},
   "outputs": [
    {
     "name": "stdout",
     "output_type": "stream",
     "text": [
      "Fitting 5 folds for each of 252 candidates, totalling 1260 fits\n"
     ]
    },
    {
     "name": "stderr",
     "output_type": "stream",
     "text": [
      "D:\\Anaconda3\\envs\\data-science-gcp\\lib\\site-packages\\sklearn\\model_selection\\_search.py:880: DataConversionWarning: A column-vector y was passed when a 1d array was expected. Please change the shape of y to (n_samples,), for example using ravel().\n",
      "  self.best_estimator_.fit(X, y, **fit_params)\n"
     ]
    },
    {
     "data": {
      "text/plain": [
       "GridSearchCV(cv=5, estimator=RandomForestRegressor(random_state=42), n_jobs=-1,\n",
       "             param_grid={'min_samples_leaf': [0.01, 0.05, 0.05, 0.1, 0.15, 0.2],\n",
       "                         'min_samples_split': [0.01, 0.05, 0.05, 0.1, 0.15,\n",
       "                                               0.2],\n",
       "                         'n_estimators': [5, 10, 25, 50, 100, 150, 200]},\n",
       "             scoring='neg_mean_absolute_error', verbose=1)"
      ]
     },
     "execution_count": 19,
     "metadata": {},
     "output_type": "execute_result"
    }
   ],
   "source": [
    "rf_cv.fit(X_train, y_train)"
   ]
  },
  {
   "cell_type": "code",
   "execution_count": 20,
   "id": "5269e5cf",
   "metadata": {},
   "outputs": [
    {
     "name": "stdout",
     "output_type": "stream",
     "text": [
      "RMSE:  121.52157952490339\n",
      "MAE:  96.70132395257853\n",
      "MEAN_RMSE_MAE:  109.11145173874095\n"
     ]
    },
    {
     "data": {
      "image/png": "[encoded data removed]",
      "text/plain": [
       "<Figure size 1440x360 with 3 Axes>"
      ]
     },
     "metadata": {
      "needs_background": "light"
     },
     "output_type": "display_data"
    }
   ],
   "source": [
    "metrics_rf_cv = evaluate_metrics(model = rf_cv, \n",
    "                           X = X_test, \n",
    "                           y_true = y_test\n",
    "                          )\n",
    "\n",
    "evaluate_quality_models(model = rf_cv, \n",
    "                        X = X_test, \n",
    "                        y_true = y_test, \n",
    "                        df_metrics = metrics_rf_cv\n",
    "                       )"
   ]
  },
  {
   "cell_type": "code",
   "execution_count": 21,
   "id": "4f190166",
   "metadata": {},
   "outputs": [
    {
     "data": {
      "text/plain": [
       "{'min_samples_leaf': 0.01, 'min_samples_split': 0.01, 'n_estimators': 200}"
      ]
     },
     "execution_count": 21,
     "metadata": {},
     "output_type": "execute_result"
    }
   ],
   "source": [
    "rf_cv.best_params_"
   ]
  },
  {
   "cell_type": "code",
   "execution_count": null,
   "id": "84c20ce4",
   "metadata": {},
   "outputs": [],
   "source": []
  },
  {
   "cell_type": "markdown",
   "id": "92053b59",
   "metadata": {},
   "source": [
    "### 2.8 Compare metrics"
   ]
  },
  {
   "cell_type": "code",
   "execution_count": 22,
   "id": "fb8d4083",
   "metadata": {},
   "outputs": [],
   "source": [
    "# obs: it is a little harcoded\n",
    "\n",
    "# metrics_lr\n",
    "# metrics_cart\n",
    "# metrics_rf\n",
    "# metrics_knn\n",
    "# metrics_svr\n",
    "# metrics_xgb\n",
    "# metrics_ltb_reg\n",
    "# metrics_rf_cv"
   ]
  },
  {
   "cell_type": "code",
   "execution_count": 23,
   "id": "460ecaa0",
   "metadata": {},
   "outputs": [],
   "source": [
    "# rename column\n",
    "metrics_lr.rename({'metric_value': 'metric_value_lr'}, axis = 1, inplace = True)\n",
    "metrics_cart.rename({'metric_value': 'metric_value_cart'}, axis = 1, inplace = True)\n",
    "metrics_rf.rename({'metric_value': 'metric_value_rf'}, axis = 1, inplace = True)\n",
    "metrics_knn.rename({'metric_value': 'metric_value_knn'}, axis = 1, inplace = True)\n",
    "metrics_svr.rename({'metric_value': 'metric_value_svr'}, axis = 1, inplace = True)\n",
    "metrics_xgb.rename({'metric_value': 'metric_value_xgb'}, axis = 1, inplace = True)\n",
    "metrics_ltb_reg.rename({'metric_value': 'metric_value_ltb'}, axis = 1, inplace = True)\n",
    "metrics_rf_cv.rename({'metric_value': 'metric_value_rf_cv'}, axis = 1, inplace = True)"
   ]
  },
  {
   "cell_type": "code",
   "execution_count": 24,
   "id": "d232cfef",
   "metadata": {},
   "outputs": [],
   "source": [
    "# transpose dataframes\n",
    "metrics_lr = metrics_lr.T\n",
    "metrics_cart = metrics_cart.T\n",
    "metrics_rf = metrics_rf.T\n",
    "metrics_knn = metrics_knn.T\n",
    "metrics_svr = metrics_svr.T\n",
    "metrics_xgb = metrics_xgb.T\n",
    "metrics_ltb_reg = metrics_ltb_reg.T\n",
    "metrics_rf_cv = metrics_rf_cv.T"
   ]
  },
  {
   "cell_type": "code",
   "execution_count": 25,
   "id": "50ef82ce",
   "metadata": {},
   "outputs": [],
   "source": [
    "# append in only dataframe\n",
    "metrics = pd.DataFrame()\n",
    "metrics = metrics.append(metrics_lr)\n",
    "metrics = metrics.append(metrics_cart)\n",
    "metrics = metrics.append(metrics_rf)\n",
    "metrics = metrics.append(metrics_knn)\n",
    "metrics = metrics.append(metrics_svr)\n",
    "metrics = metrics.append(metrics_xgb)\n",
    "metrics = metrics.append(metrics_ltb_reg)\n",
    "metrics = metrics.append(metrics_rf_cv)"
   ]
  },
  {
   "cell_type": "code",
   "execution_count": 26,
   "id": "c41a01a1",
   "metadata": {},
   "outputs": [
    {
     "data": {
      "text/html": [
       "<div>\n",
       "<style scoped>\n",
       "    .dataframe tbody tr th:only-of-type {\n",
       "        vertical-align: middle;\n",
       "    }\n",
       "\n",
       "    .dataframe tbody tr th {\n",
       "        vertical-align: top;\n",
       "    }\n",
       "\n",
       "    .dataframe thead th {\n",
       "        text-align: right;\n",
       "    }\n",
       "</style>\n",
       "<table border=\"1\" class=\"dataframe\">\n",
       "  <thead>\n",
       "    <tr style=\"text-align: right;\">\n",
       "      <th></th>\n",
       "      <th>RMSE</th>\n",
       "      <th>MAE</th>\n",
       "      <th>RMSE_MAE</th>\n",
       "    </tr>\n",
       "  </thead>\n",
       "  <tbody>\n",
       "    <tr>\n",
       "      <th>metric_value_lr</th>\n",
       "      <td>0.103388</td>\n",
       "      <td>0.077390</td>\n",
       "      <td>0.090389</td>\n",
       "    </tr>\n",
       "    <tr>\n",
       "      <th>metric_value_cart</th>\n",
       "      <td>173.796049</td>\n",
       "      <td>139.441157</td>\n",
       "      <td>156.618603</td>\n",
       "    </tr>\n",
       "    <tr>\n",
       "      <th>metric_value_rf</th>\n",
       "      <td>114.321232</td>\n",
       "      <td>91.241054</td>\n",
       "      <td>102.781143</td>\n",
       "    </tr>\n",
       "    <tr>\n",
       "      <th>metric_value_knn</th>\n",
       "      <td>124.345780</td>\n",
       "      <td>100.801996</td>\n",
       "      <td>112.573888</td>\n",
       "    </tr>\n",
       "    <tr>\n",
       "      <th>metric_value_svr</th>\n",
       "      <td>212.818020</td>\n",
       "      <td>172.371006</td>\n",
       "      <td>192.594513</td>\n",
       "    </tr>\n",
       "    <tr>\n",
       "      <th>metric_value_xgb</th>\n",
       "      <td>96.932640</td>\n",
       "      <td>76.074112</td>\n",
       "      <td>86.503376</td>\n",
       "    </tr>\n",
       "    <tr>\n",
       "      <th>metric_value_ltb</th>\n",
       "      <td>75.355744</td>\n",
       "      <td>59.364756</td>\n",
       "      <td>67.360250</td>\n",
       "    </tr>\n",
       "    <tr>\n",
       "      <th>metric_value_rf_cv</th>\n",
       "      <td>121.521580</td>\n",
       "      <td>96.701324</td>\n",
       "      <td>109.111452</td>\n",
       "    </tr>\n",
       "  </tbody>\n",
       "</table>\n",
       "</div>"
      ],
      "text/plain": [
       "                          RMSE         MAE    RMSE_MAE\n",
       "metric_value_lr       0.103388    0.077390    0.090389\n",
       "metric_value_cart   173.796049  139.441157  156.618603\n",
       "metric_value_rf     114.321232   91.241054  102.781143\n",
       "metric_value_knn    124.345780  100.801996  112.573888\n",
       "metric_value_svr    212.818020  172.371006  192.594513\n",
       "metric_value_xgb     96.932640   76.074112   86.503376\n",
       "metric_value_ltb     75.355744   59.364756   67.360250\n",
       "metric_value_rf_cv  121.521580   96.701324  109.111452"
      ]
     },
     "execution_count": 26,
     "metadata": {},
     "output_type": "execute_result"
    }
   ],
   "source": [
    "metrics"
   ]
  },
  {
   "cell_type": "code",
   "execution_count": 27,
   "id": "3fadd8ab",
   "metadata": {},
   "outputs": [
    {
     "data": {
      "text/html": [
       "<div>\n",
       "<style scoped>\n",
       "    .dataframe tbody tr th:only-of-type {\n",
       "        vertical-align: middle;\n",
       "    }\n",
       "\n",
       "    .dataframe tbody tr th {\n",
       "        vertical-align: top;\n",
       "    }\n",
       "\n",
       "    .dataframe thead th {\n",
       "        text-align: right;\n",
       "    }\n",
       "</style>\n",
       "<table border=\"1\" class=\"dataframe\">\n",
       "  <thead>\n",
       "    <tr style=\"text-align: right;\">\n",
       "      <th></th>\n",
       "      <th>RMSE</th>\n",
       "      <th>MAE</th>\n",
       "      <th>RMSE_MAE</th>\n",
       "    </tr>\n",
       "  </thead>\n",
       "  <tbody>\n",
       "    <tr>\n",
       "      <th>metric_value_lr</th>\n",
       "      <td>0.103388</td>\n",
       "      <td>0.077390</td>\n",
       "      <td>0.090389</td>\n",
       "    </tr>\n",
       "    <tr>\n",
       "      <th>metric_value_ltb</th>\n",
       "      <td>75.355744</td>\n",
       "      <td>59.364756</td>\n",
       "      <td>67.360250</td>\n",
       "    </tr>\n",
       "    <tr>\n",
       "      <th>metric_value_xgb</th>\n",
       "      <td>96.932640</td>\n",
       "      <td>76.074112</td>\n",
       "      <td>86.503376</td>\n",
       "    </tr>\n",
       "    <tr>\n",
       "      <th>metric_value_rf</th>\n",
       "      <td>114.321232</td>\n",
       "      <td>91.241054</td>\n",
       "      <td>102.781143</td>\n",
       "    </tr>\n",
       "    <tr>\n",
       "      <th>metric_value_rf_cv</th>\n",
       "      <td>121.521580</td>\n",
       "      <td>96.701324</td>\n",
       "      <td>109.111452</td>\n",
       "    </tr>\n",
       "    <tr>\n",
       "      <th>metric_value_knn</th>\n",
       "      <td>124.345780</td>\n",
       "      <td>100.801996</td>\n",
       "      <td>112.573888</td>\n",
       "    </tr>\n",
       "    <tr>\n",
       "      <th>metric_value_cart</th>\n",
       "      <td>173.796049</td>\n",
       "      <td>139.441157</td>\n",
       "      <td>156.618603</td>\n",
       "    </tr>\n",
       "    <tr>\n",
       "      <th>metric_value_svr</th>\n",
       "      <td>212.818020</td>\n",
       "      <td>172.371006</td>\n",
       "      <td>192.594513</td>\n",
       "    </tr>\n",
       "  </tbody>\n",
       "</table>\n",
       "</div>"
      ],
      "text/plain": [
       "                          RMSE         MAE    RMSE_MAE\n",
       "metric_value_lr       0.103388    0.077390    0.090389\n",
       "metric_value_ltb     75.355744   59.364756   67.360250\n",
       "metric_value_xgb     96.932640   76.074112   86.503376\n",
       "metric_value_rf     114.321232   91.241054  102.781143\n",
       "metric_value_rf_cv  121.521580   96.701324  109.111452\n",
       "metric_value_knn    124.345780  100.801996  112.573888\n",
       "metric_value_cart   173.796049  139.441157  156.618603\n",
       "metric_value_svr    212.818020  172.371006  192.594513"
      ]
     },
     "execution_count": 27,
     "metadata": {},
     "output_type": "execute_result"
    }
   ],
   "source": [
    "metrics.sort_values(['RMSE_MAE'], ascending = True)"
   ]
  },
  {
   "cell_type": "code",
   "execution_count": null,
   "id": "743c8749",
   "metadata": {},
   "outputs": [],
   "source": []
  },
  {
   "cell_type": "markdown",
   "id": "0c8516eb",
   "metadata": {},
   "source": []
  },
  {
   "cell_type": "code",
   "execution_count": null,
   "id": "5182a060",
   "metadata": {},
   "outputs": [],
   "source": []
  },
  {
   "cell_type": "code",
   "execution_count": null,
   "id": "e20b6795",
   "metadata": {},
   "outputs": [],
   "source": []
  },
  {
   "cell_type": "code",
   "execution_count": null,
   "id": "99611b60",
   "metadata": {},
   "outputs": [],
   "source": []
  },
  {
   "cell_type": "markdown",
   "id": "fcae3ead",
   "metadata": {},
   "source": [
    "### 3. Explory Cross-Validation to evaluate te quality of the model\n",
    "- In this part I use cross-validation in the train dataset to train the same architecture of the models with diferent samples of the train data and having a metric of each sample and then have a better estimation of the quality of the model.\n",
    "\n",
    "- For example if I use 5 folds cross validation, I can train 5 models with differents samples of the train data and have 5 values of metrics, then I can evaluate the distribution of these metrics and have a better estimation of the quality of the model\n",
    "\n",
    "\n",
    "- **Repeated Kfolds** to make multiples Folds. For example 5Folds but I repeat the generation of folds for example 3 times, getting finally 15folds (5folds repeated 3 times). I use that in this example because I want to have more amount of metrics (for example 30 values, 3 repetions of 10Folds) and calculate the distribution of the metric\n",
    "\n",
    "- **cross_val_score** to get the scores of each FOLD (using the test data of each fold), **IMPORTANT** this function FIT THE MODELS. So, this function divide the data in KFolds and fit the model for each Fold and return the metric using the test data of each Fold. **IMPORTANT 2** this function only calculate the metric of each fold (after training in each fold) but don't do HP tunning."
   ]
  },
  {
   "cell_type": "code",
   "execution_count": 28,
   "id": "f0d929f6",
   "metadata": {},
   "outputs": [],
   "source": [
    "from sklearn.model_selection import RepeatedKFold\n",
    "from sklearn.model_selection import cross_val_score"
   ]
  },
  {
   "cell_type": "code",
   "execution_count": null,
   "id": "d83eb70f",
   "metadata": {},
   "outputs": [],
   "source": []
  },
  {
   "cell_type": "code",
   "execution_count": 29,
   "id": "162d66dc",
   "metadata": {},
   "outputs": [
    {
     "name": "stdout",
     "output_type": "stream",
     "text": [
      "train_index:  [0 2]\n",
      "test_index:  [1 3]\n",
      "train_index:  [1 3]\n",
      "test_index:  [0 2]\n",
      "train_index:  [0 2]\n",
      "test_index:  [1 3]\n",
      "train_index:  [1 3]\n",
      "test_index:  [0 2]\n"
     ]
    }
   ],
   "source": [
    "# EXAMPLE OF RKF - get different splits of the train data\n",
    "X = np.array([[1, 2], [3, 4], [5, 6], [7, 8]])\n",
    "y = np.array([11, 22, 33, 44])\n",
    "rkf = RepeatedKFold(n_splits=2, n_repeats=2, random_state=42)\n",
    "\n",
    "for train_index, test_index in rkf.split(X):\n",
    "    print('train_index: ', train_index)\n",
    "    print('test_index: ', test_index)"
   ]
  },
  {
   "cell_type": "code",
   "execution_count": 30,
   "id": "21d3b45b",
   "metadata": {},
   "outputs": [
    {
     "data": {
      "text/plain": [
       "array([-60.29520315, -59.77744074, -78.19707345])"
      ]
     },
     "execution_count": 30,
     "metadata": {},
     "output_type": "execute_result"
    }
   ],
   "source": [
    "# EXAMPLE OF cross-val-score\n",
    "# You define the number of Folds and split the data, for each fold you train the model and get the value of the metric using\n",
    "# the test data. For example, if you define 3Folds, you get 3 metrics. After that you could average the metric and say WITH \n",
    "# X MODEL the metric is X.\n",
    "\n",
    "diabetes_df = datasets.load_diabetes()\n",
    "X = diabetes_df.data[:150]\n",
    "y = diabetes_df.target[:150]\n",
    "lasso = linear_model.Lasso()\n",
    "cross_val_score(lasso, X, y, cv=3, scoring = 'neg_root_mean_squared_error')"
   ]
  },
  {
   "cell_type": "code",
   "execution_count": 31,
   "id": "cbf369ee",
   "metadata": {},
   "outputs": [
    {
     "name": "stderr",
     "output_type": "stream",
     "text": [
      "D:\\Anaconda3\\envs\\data-science-gcp\\lib\\site-packages\\sklearn\\model_selection\\_validation.py:598: DataConversionWarning: A column-vector y was passed when a 1d array was expected. Please change the shape of y to (n_samples,), for example using ravel().\n",
      "  estimator.fit(X_train, y_train, **fit_params)\n",
      "D:\\Anaconda3\\envs\\data-science-gcp\\lib\\site-packages\\sklearn\\model_selection\\_validation.py:598: DataConversionWarning: A column-vector y was passed when a 1d array was expected. Please change the shape of y to (n_samples,), for example using ravel().\n",
      "  estimator.fit(X_train, y_train, **fit_params)\n",
      "D:\\Anaconda3\\envs\\data-science-gcp\\lib\\site-packages\\sklearn\\model_selection\\_validation.py:598: DataConversionWarning: A column-vector y was passed when a 1d array was expected. Please change the shape of y to (n_samples,), for example using ravel().\n",
      "  estimator.fit(X_train, y_train, **fit_params)\n",
      "D:\\Anaconda3\\envs\\data-science-gcp\\lib\\site-packages\\sklearn\\model_selection\\_validation.py:598: DataConversionWarning: A column-vector y was passed when a 1d array was expected. Please change the shape of y to (n_samples,), for example using ravel().\n",
      "  estimator.fit(X_train, y_train, **fit_params)\n",
      "D:\\Anaconda3\\envs\\data-science-gcp\\lib\\site-packages\\sklearn\\model_selection\\_validation.py:598: DataConversionWarning: A column-vector y was passed when a 1d array was expected. Please change the shape of y to (n_samples,), for example using ravel().\n",
      "  estimator.fit(X_train, y_train, **fit_params)\n",
      "D:\\Anaconda3\\envs\\data-science-gcp\\lib\\site-packages\\sklearn\\model_selection\\_validation.py:598: DataConversionWarning: A column-vector y was passed when a 1d array was expected. Please change the shape of y to (n_samples,), for example using ravel().\n",
      "  estimator.fit(X_train, y_train, **fit_params)\n",
      "D:\\Anaconda3\\envs\\data-science-gcp\\lib\\site-packages\\sklearn\\model_selection\\_validation.py:598: DataConversionWarning: A column-vector y was passed when a 1d array was expected. Please change the shape of y to (n_samples,), for example using ravel().\n",
      "  estimator.fit(X_train, y_train, **fit_params)\n",
      "D:\\Anaconda3\\envs\\data-science-gcp\\lib\\site-packages\\sklearn\\model_selection\\_validation.py:598: DataConversionWarning: A column-vector y was passed when a 1d array was expected. Please change the shape of y to (n_samples,), for example using ravel().\n",
      "  estimator.fit(X_train, y_train, **fit_params)\n",
      "D:\\Anaconda3\\envs\\data-science-gcp\\lib\\site-packages\\sklearn\\model_selection\\_validation.py:598: DataConversionWarning: A column-vector y was passed when a 1d array was expected. Please change the shape of y to (n_samples,), for example using ravel().\n",
      "  estimator.fit(X_train, y_train, **fit_params)\n",
      "D:\\Anaconda3\\envs\\data-science-gcp\\lib\\site-packages\\sklearn\\model_selection\\_validation.py:598: DataConversionWarning: A column-vector y was passed when a 1d array was expected. Please change the shape of y to (n_samples,), for example using ravel().\n",
      "  estimator.fit(X_train, y_train, **fit_params)\n",
      "D:\\Anaconda3\\envs\\data-science-gcp\\lib\\site-packages\\sklearn\\model_selection\\_validation.py:598: DataConversionWarning: A column-vector y was passed when a 1d array was expected. Please change the shape of y to (n_samples,), for example using ravel().\n",
      "  estimator.fit(X_train, y_train, **fit_params)\n",
      "D:\\Anaconda3\\envs\\data-science-gcp\\lib\\site-packages\\sklearn\\model_selection\\_validation.py:598: DataConversionWarning: A column-vector y was passed when a 1d array was expected. Please change the shape of y to (n_samples,), for example using ravel().\n",
      "  estimator.fit(X_train, y_train, **fit_params)\n",
      "D:\\Anaconda3\\envs\\data-science-gcp\\lib\\site-packages\\sklearn\\model_selection\\_validation.py:598: DataConversionWarning: A column-vector y was passed when a 1d array was expected. Please change the shape of y to (n_samples,), for example using ravel().\n",
      "  estimator.fit(X_train, y_train, **fit_params)\n",
      "D:\\Anaconda3\\envs\\data-science-gcp\\lib\\site-packages\\sklearn\\model_selection\\_validation.py:598: DataConversionWarning: A column-vector y was passed when a 1d array was expected. Please change the shape of y to (n_samples,), for example using ravel().\n",
      "  estimator.fit(X_train, y_train, **fit_params)\n",
      "D:\\Anaconda3\\envs\\data-science-gcp\\lib\\site-packages\\sklearn\\model_selection\\_validation.py:598: DataConversionWarning: A column-vector y was passed when a 1d array was expected. Please change the shape of y to (n_samples,), for example using ravel().\n",
      "  estimator.fit(X_train, y_train, **fit_params)\n",
      "D:\\Anaconda3\\envs\\data-science-gcp\\lib\\site-packages\\sklearn\\model_selection\\_validation.py:598: DataConversionWarning: A column-vector y was passed when a 1d array was expected. Please change the shape of y to (n_samples,), for example using ravel().\n",
      "  estimator.fit(X_train, y_train, **fit_params)\n",
      "D:\\Anaconda3\\envs\\data-science-gcp\\lib\\site-packages\\sklearn\\model_selection\\_validation.py:598: DataConversionWarning: A column-vector y was passed when a 1d array was expected. Please change the shape of y to (n_samples,), for example using ravel().\n",
      "  estimator.fit(X_train, y_train, **fit_params)\n",
      "D:\\Anaconda3\\envs\\data-science-gcp\\lib\\site-packages\\sklearn\\model_selection\\_validation.py:598: DataConversionWarning: A column-vector y was passed when a 1d array was expected. Please change the shape of y to (n_samples,), for example using ravel().\n",
      "  estimator.fit(X_train, y_train, **fit_params)\n",
      "D:\\Anaconda3\\envs\\data-science-gcp\\lib\\site-packages\\sklearn\\model_selection\\_validation.py:598: DataConversionWarning: A column-vector y was passed when a 1d array was expected. Please change the shape of y to (n_samples,), for example using ravel().\n",
      "  estimator.fit(X_train, y_train, **fit_params)\n",
      "D:\\Anaconda3\\envs\\data-science-gcp\\lib\\site-packages\\sklearn\\model_selection\\_validation.py:598: DataConversionWarning: A column-vector y was passed when a 1d array was expected. Please change the shape of y to (n_samples,), for example using ravel().\n",
      "  estimator.fit(X_train, y_train, **fit_params)\n",
      "D:\\Anaconda3\\envs\\data-science-gcp\\lib\\site-packages\\sklearn\\model_selection\\_validation.py:598: DataConversionWarning: A column-vector y was passed when a 1d array was expected. Please change the shape of y to (n_samples,), for example using ravel().\n",
      "  estimator.fit(X_train, y_train, **fit_params)\n",
      "D:\\Anaconda3\\envs\\data-science-gcp\\lib\\site-packages\\sklearn\\model_selection\\_validation.py:598: DataConversionWarning: A column-vector y was passed when a 1d array was expected. Please change the shape of y to (n_samples,), for example using ravel().\n",
      "  estimator.fit(X_train, y_train, **fit_params)\n",
      "D:\\Anaconda3\\envs\\data-science-gcp\\lib\\site-packages\\sklearn\\model_selection\\_validation.py:598: DataConversionWarning: A column-vector y was passed when a 1d array was expected. Please change the shape of y to (n_samples,), for example using ravel().\n",
      "  estimator.fit(X_train, y_train, **fit_params)\n",
      "D:\\Anaconda3\\envs\\data-science-gcp\\lib\\site-packages\\sklearn\\model_selection\\_validation.py:598: DataConversionWarning: A column-vector y was passed when a 1d array was expected. Please change the shape of y to (n_samples,), for example using ravel().\n",
      "  estimator.fit(X_train, y_train, **fit_params)\n",
      "D:\\Anaconda3\\envs\\data-science-gcp\\lib\\site-packages\\sklearn\\model_selection\\_validation.py:598: DataConversionWarning: A column-vector y was passed when a 1d array was expected. Please change the shape of y to (n_samples,), for example using ravel().\n",
      "  estimator.fit(X_train, y_train, **fit_params)\n",
      "D:\\Anaconda3\\envs\\data-science-gcp\\lib\\site-packages\\sklearn\\model_selection\\_validation.py:598: DataConversionWarning: A column-vector y was passed when a 1d array was expected. Please change the shape of y to (n_samples,), for example using ravel().\n",
      "  estimator.fit(X_train, y_train, **fit_params)\n",
      "D:\\Anaconda3\\envs\\data-science-gcp\\lib\\site-packages\\sklearn\\model_selection\\_validation.py:598: DataConversionWarning: A column-vector y was passed when a 1d array was expected. Please change the shape of y to (n_samples,), for example using ravel().\n",
      "  estimator.fit(X_train, y_train, **fit_params)\n",
      "D:\\Anaconda3\\envs\\data-science-gcp\\lib\\site-packages\\sklearn\\model_selection\\_validation.py:598: DataConversionWarning: A column-vector y was passed when a 1d array was expected. Please change the shape of y to (n_samples,), for example using ravel().\n",
      "  estimator.fit(X_train, y_train, **fit_params)\n"
     ]
    },
    {
     "name": "stderr",
     "output_type": "stream",
     "text": [
      "D:\\Anaconda3\\envs\\data-science-gcp\\lib\\site-packages\\sklearn\\model_selection\\_validation.py:598: DataConversionWarning: A column-vector y was passed when a 1d array was expected. Please change the shape of y to (n_samples,), for example using ravel().\n",
      "  estimator.fit(X_train, y_train, **fit_params)\n",
      "D:\\Anaconda3\\envs\\data-science-gcp\\lib\\site-packages\\sklearn\\model_selection\\_validation.py:598: DataConversionWarning: A column-vector y was passed when a 1d array was expected. Please change the shape of y to (n_samples,), for example using ravel().\n",
      "  estimator.fit(X_train, y_train, **fit_params)\n"
     ]
    }
   ],
   "source": [
    "# EXAMPLE CALCULATING SCORES (using the random forest)\n",
    "\n",
    "# defining a CV SPLITTER (repeated K folds)\n",
    "cv = RepeatedKFold(n_splits=10, n_repeats=3, random_state=42)\n",
    "\n",
    "# getting the scores for each FOLD\n",
    "scores = cross_val_score(rf, X_train, y_train, scoring='neg_root_mean_squared_error', cv=cv)\n",
    "scores = - scores"
   ]
  },
  {
   "cell_type": "code",
   "execution_count": 32,
   "id": "163da8c4",
   "metadata": {},
   "outputs": [
    {
     "data": {
      "text/plain": [
       "array([115.21241805, 121.13263753, 115.06944289, 118.21376335,\n",
       "       114.20220996, 118.19611638, 116.23505605, 115.58781493,\n",
       "       125.7643703 , 120.15080326, 102.54079962, 110.25738418,\n",
       "       119.09889112, 130.89017286, 103.89103928, 101.51640743,\n",
       "       135.20651512, 132.46635053, 113.04369442, 110.97001691,\n",
       "       107.5557503 , 116.56121584, 112.00553688, 118.52650444,\n",
       "       122.75272211, 121.8006064 , 125.65598199, 117.20503322,\n",
       "       118.32074935, 117.07421828])"
      ]
     },
     "execution_count": 32,
     "metadata": {},
     "output_type": "execute_result"
    }
   ],
   "source": [
    "# print values of scores\n",
    "scores"
   ]
  },
  {
   "cell_type": "code",
   "execution_count": 33,
   "id": "2e0856b6",
   "metadata": {},
   "outputs": [
    {
     "data": {
      "text/plain": [
       "{'whiskers': [<matplotlib.lines.Line2D at 0x1a9086b1820>,\n",
       "  <matplotlib.lines.Line2D at 0x1a9086b1af0>],\n",
       " 'caps': [<matplotlib.lines.Line2D at 0x1a9086b1e80>,\n",
       "  <matplotlib.lines.Line2D at 0x1a9086bc250>],\n",
       " 'boxes': [<matplotlib.lines.Line2D at 0x1a9086b1430>],\n",
       " 'medians': [<matplotlib.lines.Line2D at 0x1a9086bc5e0>],\n",
       " 'fliers': [<matplotlib.lines.Line2D at 0x1a9086bc970>],\n",
       " 'means': []}"
      ]
     },
     "execution_count": 33,
     "metadata": {},
     "output_type": "execute_result"
    },
    {
     "data": {
      "image/png": "[encoded data removed]",
      "text/plain": [
       "<Figure size 432x288 with 1 Axes>"
      ]
     },
     "metadata": {
      "needs_background": "light"
     },
     "output_type": "display_data"
    }
   ],
   "source": [
    "# make a boxplot to see the distrbution of the errors\n",
    "plt.boxplot(scores)"
   ]
  },
  {
   "cell_type": "code",
   "execution_count": null,
   "id": "24efb6b6",
   "metadata": {},
   "outputs": [],
   "source": []
  },
  {
   "cell_type": "code",
   "execution_count": null,
   "id": "67dd4416",
   "metadata": {},
   "outputs": [],
   "source": []
  },
  {
   "cell_type": "code",
   "execution_count": null,
   "id": "c5a4bc0b",
   "metadata": {},
   "outputs": [],
   "source": []
  },
  {
   "cell_type": "code",
   "execution_count": 34,
   "id": "77d17603",
   "metadata": {},
   "outputs": [],
   "source": [
    "# stop"
   ]
  },
  {
   "cell_type": "code",
   "execution_count": null,
   "id": "00c0598c",
   "metadata": {},
   "outputs": [],
   "source": []
  },
  {
   "cell_type": "markdown",
   "id": "313c1cb9",
   "metadata": {},
   "source": [
    "### EXTRA. ESTUDING METHODS TO HP TUNNING WITH CROSS-VALIDATION\n",
    "- In this example I define a space of hiperparameters of 8 combinations (3 parameters with 2 options of each one)"
   ]
  },
  {
   "cell_type": "code",
   "execution_count": 35,
   "id": "22a2458e",
   "metadata": {},
   "outputs": [],
   "source": [
    "# params to hp tunning\n",
    "parameters_grid = {\n",
    "    'n_estimators': [5, 10],\n",
    "    'min_samples_split': [0.01, 0.05],\n",
    "    'min_samples_leaf': [0.01, 0.05]\n",
    "}\n",
    "\n",
    "number_kfolds = 3"
   ]
  },
  {
   "cell_type": "markdown",
   "id": "5f4dcf8f",
   "metadata": {},
   "source": [
    "#### FORM 1. TUNNING WITH CV USING GRID SEARCH\n",
    "- I use the function Grid Search CV to define the params and the number of folds (in this function INS'T NECESSARY DEFINE CV, it can be set in None)\n",
    "- How its work?:\n",
    "    - Step 1: Generate the K Folds. For example 3 folds\n",
    "    - Step 2: For each Fold make the hp tunning.\n",
    "    - Step 3: Get the value of each hp (the mean of hp tunning across each fold)\n",
    "    - Example: In this example The grid has 8 combinations (condidates), so I need to fit 8 different models (the same architecture of the model with different hiperparameters) and the model trained with best metric in valid data is the selected. So, including the Cross validation I generate 3 folds (3 datasets of train and valid) and for EACH FOLD I need to train the 8 models. Finally I fit 3 folds with each fold have 8 candidates, totally I fit 24 models. Then to calculate the metric of each 8 models (that represent the combination of hp tunning parameters) I need to calculate the average across each fold (hp combination 1 in fold 1 + hp combination 1 in fold 2 + hp combination 1 in fold 3 / Number of folds)"
   ]
  },
  {
   "cell_type": "code",
   "execution_count": 36,
   "id": "91399fd9",
   "metadata": {},
   "outputs": [],
   "source": [
    "# base model model\n",
    "rf_form1 = RandomForestRegressor(random_state = 42)"
   ]
  },
  {
   "cell_type": "code",
   "execution_count": 37,
   "id": "b6498c4e",
   "metadata": {},
   "outputs": [
    {
     "name": "stdout",
     "output_type": "stream",
     "text": [
      "Fitting 3 folds for each of 8 candidates, totalling 24 fits\n"
     ]
    },
    {
     "name": "stderr",
     "output_type": "stream",
     "text": [
      "D:\\Anaconda3\\envs\\data-science-gcp\\lib\\site-packages\\sklearn\\model_selection\\_search.py:880: DataConversionWarning: A column-vector y was passed when a 1d array was expected. Please change the shape of y to (n_samples,), for example using ravel().\n",
      "  self.best_estimator_.fit(X, y, **fit_params)\n"
     ]
    },
    {
     "data": {
      "text/plain": [
       "GridSearchCV(cv=3, estimator=RandomForestRegressor(random_state=42), n_jobs=-1,\n",
       "             param_grid={'min_samples_leaf': [0.01, 0.05],\n",
       "                         'min_samples_split': [0.01, 0.05],\n",
       "                         'n_estimators': [5, 10]},\n",
       "             scoring='neg_mean_absolute_error', verbose=1)"
      ]
     },
     "execution_count": 37,
     "metadata": {},
     "output_type": "execute_result"
    }
   ],
   "source": [
    "rf_cv_form1 = GridSearchCV(estimator = rf_form1, \n",
    "                     param_grid = parameters_grid, \n",
    "                     cv= number_kfolds,\n",
    "                     scoring = 'neg_mean_absolute_error',\n",
    "                     n_jobs = -1,\n",
    "                     verbose = 1\n",
    "                    )\n",
    "\n",
    "rf_cv_form1.fit(X_train, y_train)"
   ]
  },
  {
   "cell_type": "code",
   "execution_count": 38,
   "id": "37619474",
   "metadata": {},
   "outputs": [
    {
     "data": {
      "text/plain": [
       "{'mean_fit_time': array([0.02609348, 0.04557323, 0.02533237, 0.04700152, 0.02200333,\n",
       "        0.05233272, 0.0226632 , 0.03199752]),\n",
       " 'std_fit_time': array([1.69969035e-03, 2.37867114e-03, 4.71477126e-03, 7.11805028e-03,\n",
       "        8.14492707e-04, 3.29811540e-03, 2.49417451e-03, 1.23630756e-06]),\n",
       " 'mean_score_time': array([0.00400098, 0.00700347, 0.00466871, 0.00700156, 0.00633383,\n",
       "        0.00333182, 0.00400027, 0.00433397]),\n",
       " 'std_score_time': array([7.86741172e-07, 2.16104712e-03, 4.70529118e-04, 2.16285305e-03,\n",
       "        1.70105256e-03, 4.72269527e-04, 8.18190185e-04, 1.24706502e-03]),\n",
       " 'param_min_samples_leaf': masked_array(data=[0.01, 0.01, 0.01, 0.01, 0.05, 0.05, 0.05, 0.05],\n",
       "              mask=[False, False, False, False, False, False, False, False],\n",
       "        fill_value='?',\n",
       "             dtype=object),\n",
       " 'param_min_samples_split': masked_array(data=[0.01, 0.01, 0.05, 0.05, 0.01, 0.01, 0.05, 0.05],\n",
       "              mask=[False, False, False, False, False, False, False, False],\n",
       "        fill_value='?',\n",
       "             dtype=object),\n",
       " 'param_n_estimators': masked_array(data=[5, 10, 5, 10, 5, 10, 5, 10],\n",
       "              mask=[False, False, False, False, False, False, False, False],\n",
       "        fill_value='?',\n",
       "             dtype=object),\n",
       " 'params': [{'min_samples_leaf': 0.01,\n",
       "   'min_samples_split': 0.01,\n",
       "   'n_estimators': 5},\n",
       "  {'min_samples_leaf': 0.01, 'min_samples_split': 0.01, 'n_estimators': 10},\n",
       "  {'min_samples_leaf': 0.01, 'min_samples_split': 0.05, 'n_estimators': 5},\n",
       "  {'min_samples_leaf': 0.01, 'min_samples_split': 0.05, 'n_estimators': 10},\n",
       "  {'min_samples_leaf': 0.05, 'min_samples_split': 0.01, 'n_estimators': 5},\n",
       "  {'min_samples_leaf': 0.05, 'min_samples_split': 0.01, 'n_estimators': 10},\n",
       "  {'min_samples_leaf': 0.05, 'min_samples_split': 0.05, 'n_estimators': 5},\n",
       "  {'min_samples_leaf': 0.05, 'min_samples_split': 0.05, 'n_estimators': 10}],\n",
       " 'split0_test_score': array([-103.30598116, -100.76684138, -107.38219076, -105.50179004,\n",
       "        -122.88169171, -120.29202505, -122.88169171, -120.29202505]),\n",
       " 'split1_test_score': array([-122.45900351, -109.3197958 , -126.95521487, -117.58563268,\n",
       "        -134.61609641, -130.22653411, -134.61609641, -130.22653411]),\n",
       " 'split2_test_score': array([-125.54649194, -114.27493987, -129.31584904, -120.71718103,\n",
       "        -131.62043398, -130.21109041, -131.62043398, -130.21109041]),\n",
       " 'mean_test_score': array([-117.10382554, -108.12052568, -121.21775155, -114.60153458,\n",
       "        -129.70607403, -126.90988319, -129.70607403, -126.90988319]),\n",
       " 'std_test_score': array([9.83763279, 5.57947834, 9.83057154, 6.56026736, 4.97812843,\n",
       "        4.67953662, 4.97812843, 4.67953662]),\n",
       " 'rank_test_score': array([3, 1, 4, 2, 7, 5, 7, 5])}"
      ]
     },
     "execution_count": 38,
     "metadata": {},
     "output_type": "execute_result"
    }
   ],
   "source": [
    "results = rf_cv_form1.cv_results_\n",
    "results"
   ]
  },
  {
   "cell_type": "code",
   "execution_count": null,
   "id": "3be5642f",
   "metadata": {},
   "outputs": [],
   "source": []
  },
  {
   "cell_type": "markdown",
   "id": "1e144317",
   "metadata": {},
   "source": [
    "- Getting the best estimator"
   ]
  },
  {
   "cell_type": "code",
   "execution_count": 39,
   "id": "c6cf92ef",
   "metadata": {},
   "outputs": [
    {
     "data": {
      "text/plain": [
       "{'min_samples_leaf': 0.01, 'min_samples_split': 0.01, 'n_estimators': 10}"
      ]
     },
     "execution_count": 39,
     "metadata": {},
     "output_type": "execute_result"
    }
   ],
   "source": [
    "# BEST HIPERPARAMETERS (dictionary with the best parameters)\n",
    "rf_cv_form1.best_params_ "
   ]
  },
  {
   "cell_type": "code",
   "execution_count": 40,
   "id": "2749eb10",
   "metadata": {},
   "outputs": [
    {
     "data": {
      "text/plain": [
       "RandomForestRegressor(min_samples_leaf=0.01, min_samples_split=0.01,\n",
       "                      n_estimators=10, random_state=42)"
      ]
     },
     "execution_count": 40,
     "metadata": {},
     "output_type": "execute_result"
    }
   ],
   "source": [
    "# BEST MODEL (model trained with the best parameters, the model is TRAINED WITH ALL the DATA). the artifact model is returned\n",
    "rf_cv_form1.best_estimator_ "
   ]
  },
  {
   "cell_type": "markdown",
   "id": "8a11ef3d",
   "metadata": {},
   "source": [
    "- Getting best score using param of the class"
   ]
  },
  {
   "cell_type": "code",
   "execution_count": 41,
   "id": "c9197683",
   "metadata": {},
   "outputs": [
    {
     "data": {
      "text/plain": [
       "-108.12052568447075"
      ]
     },
     "execution_count": 41,
     "metadata": {},
     "output_type": "execute_result"
    }
   ],
   "source": [
    "# BEST SCORE: Mean cross-validated score of the best_estimator\n",
    "rf_cv_form1.best_score_"
   ]
  },
  {
   "cell_type": "markdown",
   "id": "9c416abf",
   "metadata": {},
   "source": [
    "- Get best score: calculating the average of metric of each HP combination across each Fold"
   ]
  },
  {
   "cell_type": "code",
   "execution_count": 42,
   "id": "74138992",
   "metadata": {},
   "outputs": [
    {
     "name": "stdout",
     "output_type": "stream",
     "text": [
      "0\n",
      "1\n",
      "2\n"
     ]
    }
   ],
   "source": [
    "# number of combinations of HP\n",
    "number_hp_combinations = 8\n",
    "\n",
    "# initilize array with mean of metrics of each hp combination across each kfolds\n",
    "results_hp_in_fold = np.zeros(number_hp_combinations)\n",
    "\n",
    "# sum metric of each hp combination across each fold\n",
    "for index_fold in range(number_kfolds):\n",
    "    print(index_fold)\n",
    "    results_hp_in_fold += results[f'split{index_fold}_test_score']\n",
    "    \n",
    "# divide the sum of metric for the number of folds\n",
    "results_hp_in_fold = results_hp_in_fold / number_kfolds\n",
    "\n",
    "\n",
    "# transform to positive value\n",
    "results_hp_in_fold = -results_hp_in_fold"
   ]
  },
  {
   "cell_type": "code",
   "execution_count": 43,
   "id": "b8eadbe1",
   "metadata": {},
   "outputs": [
    {
     "data": {
      "text/plain": [
       "array([117.10382554, 108.12052568, 121.21775155, 114.60153458,\n",
       "       129.70607403, 126.90988319, 129.70607403, 126.90988319])"
      ]
     },
     "execution_count": 43,
     "metadata": {},
     "output_type": "execute_result"
    }
   ],
   "source": [
    "# results\n",
    "results_hp_in_fold"
   ]
  },
  {
   "cell_type": "code",
   "execution_count": 44,
   "id": "0c03a7e1",
   "metadata": {},
   "outputs": [
    {
     "data": {
      "text/plain": [
       "1"
      ]
     },
     "execution_count": 44,
     "metadata": {},
     "output_type": "execute_result"
    }
   ],
   "source": [
    "# index of combination with best metric\n",
    "results_hp_in_fold.argmin()"
   ]
  },
  {
   "cell_type": "code",
   "execution_count": 45,
   "id": "27c68938",
   "metadata": {},
   "outputs": [
    {
     "data": {
      "text/plain": [
       "108.12052568447075"
      ]
     },
     "execution_count": 45,
     "metadata": {},
     "output_type": "execute_result"
    }
   ],
   "source": [
    "# VALUE of metric of combination with best metric\n",
    "results_hp_in_fold.min()"
   ]
  },
  {
   "cell_type": "code",
   "execution_count": 46,
   "id": "2c57ab78",
   "metadata": {},
   "outputs": [
    {
     "data": {
      "text/plain": [
       "{'min_samples_leaf': 0.01, 'min_samples_split': 0.01, 'n_estimators': 10}"
      ]
     },
     "execution_count": 46,
     "metadata": {},
     "output_type": "execute_result"
    }
   ],
   "source": [
    "# combination with best metric\n",
    "results['params'][results_hp_in_fold.argmin()]"
   ]
  },
  {
   "cell_type": "code",
   "execution_count": null,
   "id": "f9f5ada2",
   "metadata": {},
   "outputs": [],
   "source": []
  },
  {
   "cell_type": "code",
   "execution_count": null,
   "id": "f04aac1b",
   "metadata": {},
   "outputs": [],
   "source": []
  }
 ],
 "metadata": {
  "kernelspec": {
   "display_name": "Python 3 (ipykernel)",
   "language": "python",
   "name": "python3"
  },
  "language_info": {
   "codemirror_mode": {
    "name": "ipython",
    "version": 3
   },
   "file_extension": ".py",
   "mimetype": "text/x-python",
   "name": "python",
   "nbconvert_exporter": "python",
   "pygments_lexer": "ipython3",
   "version": "3.9.7"
  }
 },
 "nbformat": 4,
 "nbformat_minor": 5
}
